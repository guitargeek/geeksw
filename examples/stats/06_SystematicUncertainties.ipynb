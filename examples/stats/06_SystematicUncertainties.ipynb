{
 "cells": [
  {
   "cell_type": "markdown",
   "metadata": {},
   "source": [
    "# Systematic Uncertainties"
   ]
  },
  {
   "cell_type": "markdown",
   "metadata": {},
   "source": [
    "It is very important to know how to treat systematic uncertainties in the analysis.\n",
    "\n",
    "You can find instructions on how this is done in the [Practical Statistics for the LHC](https://arxiv.org/pdf/1503.07622.pdf) from page 17 on. However, it is a bit complicated and goes too much into detail.\n",
    "\n",
    "A guide that I can really recomment is the note [Probability Density Functions for Positive Nuisance Parameters](http://www.physics.ucla.edu/~cousins/stats/cousins_lognormal_prior.pd) by Bob Cousins (one of the statistics gurus from the pre-LHC era). In this tutorial, we will implement the procedure that he recommends and that is still used widely in CMS.\n",
    "\n",
    "Again we start with imports:"
   ]
  },
  {
   "cell_type": "code",
   "execution_count": 1,
   "metadata": {},
   "outputs": [],
   "source": [
    "import numpy as np\n",
    "import pandas as pd\n",
    "import matplotlib.pyplot as plt"
   ]
  },
  {
   "cell_type": "markdown",
   "metadata": {},
   "source": [
    "Since I don't want to repeat the big statistics functions from the previous tutorial in this notebook, I put them into a file `statistics_tools.py` from which we will import them:"
   ]
  },
  {
   "cell_type": "code",
   "execution_count": 2,
   "metadata": {},
   "outputs": [],
   "source": [
    "from geeksw.stats.statistics_tools import asymptotic_discovery_fit, make_nll_func"
   ]
  },
  {
   "cell_type": "markdown",
   "metadata": {},
   "source": [
    "We create the same example datacard as last time:"
   ]
  },
  {
   "cell_type": "code",
   "execution_count": 3,
   "metadata": {},
   "outputs": [],
   "source": [
    "datacard = pd.DataFrame(dict(WWW=[27.90, 16.07, 0, 0, 0],\n",
    "                             WWZ=[0.91, 0.91, 8.57, 0, 0],\n",
    "                             WZZ=[0.18, 0.01, 0.34, 1.08, 0.01],\n",
    "                             ZZZ=[0, 0, 0.07, 0.25, 0.41],\n",
    "                             VH_WWW=[17.62, 8.47, 0, 0, 0],\n",
    "                             VH_WWZ=[0, 0,  5.6+0.09+0.17, 0, 0],\n",
    "                             VH_WZZ=[0.0, 0, 0, 0, 0],\n",
    "                             VH_ZZZ=[0.0, 0, 0, 0, 0],\n",
    "                             B=[447.21, 94.99, 15.76, 0.55, 0.06]),\n",
    "                        index=[\"SSplusJets\", \"3leptons\", \"4leptons\", \"5leptons\", \"6leptons\"])\n",
    "datacard.index.name = \"bin\""
   ]
  },
  {
   "cell_type": "code",
   "execution_count": 4,
   "metadata": {},
   "outputs": [
    {
     "data": {
      "text/html": [
       "<div>\n",
       "<style scoped>\n",
       "    .dataframe tbody tr th:only-of-type {\n",
       "        vertical-align: middle;\n",
       "    }\n",
       "\n",
       "    .dataframe tbody tr th {\n",
       "        vertical-align: top;\n",
       "    }\n",
       "\n",
       "    .dataframe thead th {\n",
       "        text-align: right;\n",
       "    }\n",
       "</style>\n",
       "<table border=\"1\" class=\"dataframe\">\n",
       "  <thead>\n",
       "    <tr style=\"text-align: right;\">\n",
       "      <th></th>\n",
       "      <th>WWW</th>\n",
       "      <th>WWZ</th>\n",
       "      <th>WZZ</th>\n",
       "      <th>ZZZ</th>\n",
       "      <th>VH_WWW</th>\n",
       "      <th>VH_WWZ</th>\n",
       "      <th>VH_WZZ</th>\n",
       "      <th>VH_ZZZ</th>\n",
       "      <th>B</th>\n",
       "    </tr>\n",
       "    <tr>\n",
       "      <th>bin</th>\n",
       "      <th></th>\n",
       "      <th></th>\n",
       "      <th></th>\n",
       "      <th></th>\n",
       "      <th></th>\n",
       "      <th></th>\n",
       "      <th></th>\n",
       "      <th></th>\n",
       "      <th></th>\n",
       "    </tr>\n",
       "  </thead>\n",
       "  <tbody>\n",
       "    <tr>\n",
       "      <th>SSplusJets</th>\n",
       "      <td>27.90</td>\n",
       "      <td>0.91</td>\n",
       "      <td>0.18</td>\n",
       "      <td>0.00</td>\n",
       "      <td>17.62</td>\n",
       "      <td>0.00</td>\n",
       "      <td>0.0</td>\n",
       "      <td>0.0</td>\n",
       "      <td>447.21</td>\n",
       "    </tr>\n",
       "    <tr>\n",
       "      <th>3leptons</th>\n",
       "      <td>16.07</td>\n",
       "      <td>0.91</td>\n",
       "      <td>0.01</td>\n",
       "      <td>0.00</td>\n",
       "      <td>8.47</td>\n",
       "      <td>0.00</td>\n",
       "      <td>0.0</td>\n",
       "      <td>0.0</td>\n",
       "      <td>94.99</td>\n",
       "    </tr>\n",
       "    <tr>\n",
       "      <th>4leptons</th>\n",
       "      <td>0.00</td>\n",
       "      <td>8.57</td>\n",
       "      <td>0.34</td>\n",
       "      <td>0.07</td>\n",
       "      <td>0.00</td>\n",
       "      <td>5.86</td>\n",
       "      <td>0.0</td>\n",
       "      <td>0.0</td>\n",
       "      <td>15.76</td>\n",
       "    </tr>\n",
       "    <tr>\n",
       "      <th>5leptons</th>\n",
       "      <td>0.00</td>\n",
       "      <td>0.00</td>\n",
       "      <td>1.08</td>\n",
       "      <td>0.25</td>\n",
       "      <td>0.00</td>\n",
       "      <td>0.00</td>\n",
       "      <td>0.0</td>\n",
       "      <td>0.0</td>\n",
       "      <td>0.55</td>\n",
       "    </tr>\n",
       "    <tr>\n",
       "      <th>6leptons</th>\n",
       "      <td>0.00</td>\n",
       "      <td>0.00</td>\n",
       "      <td>0.01</td>\n",
       "      <td>0.41</td>\n",
       "      <td>0.00</td>\n",
       "      <td>0.00</td>\n",
       "      <td>0.0</td>\n",
       "      <td>0.0</td>\n",
       "      <td>0.06</td>\n",
       "    </tr>\n",
       "  </tbody>\n",
       "</table>\n",
       "</div>"
      ],
      "text/plain": [
       "              WWW   WWZ   WZZ   ZZZ  VH_WWW  VH_WWZ  VH_WZZ  VH_ZZZ       B\n",
       "bin                                                                        \n",
       "SSplusJets  27.90  0.91  0.18  0.00   17.62    0.00     0.0     0.0  447.21\n",
       "3leptons    16.07  0.91  0.01  0.00    8.47    0.00     0.0     0.0   94.99\n",
       "4leptons     0.00  8.57  0.34  0.07    0.00    5.86     0.0     0.0   15.76\n",
       "5leptons     0.00  0.00  1.08  0.25    0.00    0.00     0.0     0.0    0.55\n",
       "6leptons     0.00  0.00  0.01  0.41    0.00    0.00     0.0     0.0    0.06"
      ]
     },
     "execution_count": 4,
     "metadata": {},
     "output_type": "execute_result"
    }
   ],
   "source": [
    "datacard"
   ]
  },
  {
   "cell_type": "markdown",
   "metadata": {},
   "source": [
    "We need to import the `scipy.stats` package to get easy access to some standard probability distributions."
   ]
  },
  {
   "cell_type": "code",
   "execution_count": 5,
   "metadata": {},
   "outputs": [],
   "source": [
    "import scipy.stats"
   ]
  },
  {
   "cell_type": "markdown",
   "metadata": {},
   "source": [
    "Remember that the likelihood fits we performed so far are done in a purely frequentist approach by answering the question \"what is the likelihood to obtain the observations given a model?\".\n",
    "\n",
    "For the treatment of nuisance parameters, it is common to take a Bayesian approach by using the posterior probability distributions of nuisance parameters after we estimate it somehow with the information we have on them already.\n",
    "\n",
    "For example, we might have measured some scale factors that we applied to the weights of the Monte Carlo events. Assume that there is an uncertainty on this scale of maybe 5 %. That means we have to add a nuisance parameter to scale the Monte Carlo which we expect somehow between 0.95 and 1.05. We could encode this in a Gaussian probability distribution with mean 1.0 and width 0.05:"
   ]
  },
  {
   "cell_type": "code",
   "execution_count": 6,
   "metadata": {},
   "outputs": [
    {
     "data": {
      "image/png": "[encoded data removed]",
      "text/plain": [
       "<Figure size 432x288 with 1 Axes>"
      ]
     },
     "metadata": {
      "needs_background": "light"
     },
     "output_type": "display_data"
    }
   ],
   "source": [
    "x = np.linspace(0.8, 1.2)\n",
    "plt.plot(x, scipy.stats.norm.pdf(x, scale=0.05, loc=1.), label=\"Gaussian pdf\")\n",
    "plt.legend()\n",
    "plt.show()"
   ]
  },
  {
   "cell_type": "markdown",
   "metadata": {},
   "source": [
    "When we build our negative log-likelihood function, we therefore just have to add one \"penalty\" term corresponding to this Gaussian. Let's create a function to create this term for a given relative uncertainty estimate and nuisance parameter value: "
   ]
  },
  {
   "cell_type": "code",
   "execution_count": 7,
   "metadata": {},
   "outputs": [],
   "source": [
    "def normal_penalty(x, relative_uncertainty):\n",
    "    sigma = relative_uncertainty\n",
    "    return -scipy.stats.norm.logpdf(x, scale=sigma, loc=1.)"
   ]
  },
  {
   "cell_type": "markdown",
   "metadata": {},
   "source": [
    "As expected, the penalty gets higher the further away we get from the expected value 1.0:"
   ]
  },
  {
   "cell_type": "code",
   "execution_count": 8,
   "metadata": {},
   "outputs": [
    {
     "data": {
      "image/png": "[encoded data removed]",
      "text/plain": [
       "<Figure size 432x288 with 1 Axes>"
      ]
     },
     "metadata": {
      "needs_background": "light"
     },
     "output_type": "display_data"
    }
   ],
   "source": [
    "relative_uncertainty = 0.05\n",
    "x = np.linspace(0.8, 1.2, 200)\n",
    "plt.plot(x, normal_penalty(x, relative_uncertainty), label=\"Gaussian nll\")\n",
    "plt.legend()\n",
    "plt.show()"
   ]
  },
  {
   "cell_type": "markdown",
   "metadata": {},
   "source": [
    "There is just one problem: when we talk about scale corrections, negative scales are unphysical and the penalty should be theoretically infinite. However, a Gaussian also has support for negative values, which gets clear when we consider a large scale uncertainty of let's say 50 % (note the change in the x-axis scale):"
   ]
  },
  {
   "cell_type": "code",
   "execution_count": 9,
   "metadata": {},
   "outputs": [
    {
     "data": {
      "image/png": "[encoded data removed]",
      "text/plain": [
       "<Figure size 432x288 with 1 Axes>"
      ]
     },
     "metadata": {
      "needs_background": "light"
     },
     "output_type": "display_data"
    }
   ],
   "source": [
    "relative_uncertainty = 0.5\n",
    "x = np.linspace(-0.5, 1.5, 200)\n",
    "plt.plot(x, normal_penalty(x, relative_uncertainty), label=\"Gaussian nll\")\n",
    "plt.legend()\n",
    "plt.show()"
   ]
  },
  {
   "cell_type": "markdown",
   "metadata": {},
   "source": [
    "That should not be! A Guassian is therefore not the right distribution for scale uncertainties. However, most uncertainties in practice **are** scale uncertainties. That's why we need to look at different distributions.\n",
    "\n",
    "The natural choise for scale uncertainties is the [log-normal distribution](https://en.wikipedia.org/wiki/Log-normal_distribution#Statistical_Inference), which is only defined for positive values. I will not go in details about the motivation here, because it is already perfectly summarized in Cousins note. Essentially, we expect the probability for $x$ and $1/x$ to be the same instead of for $1+x$ and $1-x$ when we talk about scales, which naturally leads to the log-normal distribution.\n",
    "\n",
    "In Cousins note, the besti estimate for the scale is associated with the **median** of the distribution. For us, that means the median is assumend to be 1, since we assume to have already applied the scale in Monte Carlo. The median of the log-normal distribution is $\\log(\\mu)$, hence we set $\\mu$ to zero.\n",
    "\n",
    "Note that sometimes people associate the **mean** or the **mode** with the best estimate, which is why I implemeted this in our `lognormal_penalty` function as well. The default is the median, though."
   ]
  },
  {
   "cell_type": "code",
   "execution_count": 10,
   "metadata": {},
   "outputs": [],
   "source": [
    "def lognormal_penalty(x, relative_uncertainty, associate_best_estimate_with='median'):\n",
    "    kappa = relative_uncertainty+1.\n",
    "    sigma = np.log(kappa)\n",
    "    if associate_best_estimate_with == 'median':\n",
    "        mu = 0\n",
    "    if associate_best_estimate_with == 'mean': \n",
    "        mu = -sigma**2./2\n",
    "    if associate_best_estimate_with == 'mode': \n",
    "        mu = relative_uncertainty**2.\n",
    "    return -scipy.stats.lognorm.logpdf(x, sigma, loc=mu)"
   ]
  },
  {
   "cell_type": "markdown",
   "metadata": {},
   "source": [
    "Great, so now we have a negative log-likelihood penalty that converges towards infinity at zero from the right, just as it should behave."
   ]
  },
  {
   "cell_type": "code",
   "execution_count": 11,
   "metadata": {},
   "outputs": [
    {
     "data": {
      "image/png": "[encoded data removed]",
      "text/plain": [
       "<Figure size 432x288 with 1 Axes>"
      ]
     },
     "metadata": {
      "needs_background": "light"
     },
     "output_type": "display_data"
    }
   ],
   "source": [
    "relative_uncertainty = 0.5\n",
    "x = np.linspace(-0.2, 1.5, 200)\n",
    "plt.plot(x, lognormal_penalty(x, relative_uncertainty), label=\"Gaussian nll\")\n",
    "plt.legend()\n",
    "plt.show()"
   ]
  },
  {
   "cell_type": "markdown",
   "metadata": {},
   "source": [
    "Finally, Cousins note mentions the [gamma distribution](https://en.wikipedia.org/wiki/Gamma_distribution) which has to be used for uncertainties that needs to be for Monte Carlo statisitical uncertainties or uncertainties associate to extrapolations from control regions (we might go into these kind of extrapolations later).\n",
    "\n",
    "Let's implement this penalty as described in the note as well:"
   ]
  },
  {
   "cell_type": "code",
   "execution_count": 12,
   "metadata": {},
   "outputs": [],
   "source": [
    "def gamma_penalty(x, relative_uncertainty):\n",
    "    a = 1./relative_uncertainty**2\n",
    "    b = 1./relative_uncertainty**2 + 1\n",
    "    return -scipy.stats.gamma.logpdf(a*x, b)"
   ]
  },
  {
   "cell_type": "markdown",
   "metadata": {},
   "source": [
    "You can also find all of these three penalty functions in the `statistics_tools.py` file."
   ]
  },
  {
   "cell_type": "markdown",
   "metadata": {},
   "source": [
    "Finally, let's compare the three possible distribution choices for scale uncertainties."
   ]
  },
  {
   "cell_type": "code",
   "execution_count": 13,
   "metadata": {},
   "outputs": [
    {
     "data": {
      "image/png": "[encoded data removed]",
      "text/plain": [
       "<Figure size 432x288 with 1 Axes>"
      ]
     },
     "metadata": {
      "needs_background": "light"
     },
     "output_type": "display_data"
    }
   ],
   "source": [
    "relative_uncertainty = 0.3\n",
    "x = np.linspace(0.5, 1.5, 200)\n",
    "plt.plot(x, normal_penalty(x, relative_uncertainty), label=\"Gaussian nll\")\n",
    "plt.plot(x, lognormal_penalty(x, relative_uncertainty), label=\"log-normal nll\")\n",
    "plt.plot(x, gamma_penalty(x, relative_uncertainty), label=\"gamma nll\")\n",
    "plt.legend()\n",
    "plt.show()"
   ]
  },
  {
   "cell_type": "markdown",
   "metadata": {},
   "source": [
    "Notive that the `gamma_penalty` is shifted compared to the others. If you read the Cousins note carefully, you might remember that there is an issue with the normalization of the gamma distribution in this application. This reflects in a constant shift in the negative log-likelihood, which is not relevant if we want to find the  minimum."
   ]
  },
  {
   "cell_type": "markdown",
   "metadata": {},
   "source": [
    "Another thing to keep in mind is that all three distributions converge towards a Gaussian for small relative uncertainties, as illustrated here with a 2 % uncertainty:"
   ]
  },
  {
   "cell_type": "code",
   "execution_count": 14,
   "metadata": {},
   "outputs": [
    {
     "data": {
      "image/png": "[encoded data removed]",
      "text/plain": [
       "<Figure size 432x288 with 1 Axes>"
      ]
     },
     "metadata": {
      "needs_background": "light"
     },
     "output_type": "display_data"
    }
   ],
   "source": [
    "relative_uncertainty = 0.02\n",
    "x = np.linspace(0.9, 1.1, 200)\n",
    "plt.plot(x, normal_penalty(x, relative_uncertainty), label=\"Gaussian nll\")\n",
    "plt.plot(x, lognormal_penalty(x, relative_uncertainty), label=\"log-normal nll\")\n",
    "plt.plot(x, gamma_penalty(x, relative_uncertainty), label=\"gamma nll\")\n",
    "plt.legend()\n",
    "plt.show()"
   ]
  },
  {
   "cell_type": "markdown",
   "metadata": {},
   "source": [
    "## Using Nuisance Parameters in our Fitting Tools"
   ]
  },
  {
   "cell_type": "markdown",
   "metadata": {},
   "source": [
    "Let's see how nuisance parameters can be used with our negative log-likelihood builder and asymptotic fit tool.\n",
    "\n",
    "Here is just a reminder how to use it without nuisance parameters, with some random signal definitions:"
   ]
  },
  {
   "cell_type": "code",
   "execution_count": 15,
   "metadata": {},
   "outputs": [],
   "source": [
    "signal_strengths = dict(mu_WWW=\"WWW\", mu_WWZ=\"WWZ\", mu_WZZ=\"WZZ\", mu_ZZZ=\"ZZZ\")"
   ]
  },
  {
   "cell_type": "code",
   "execution_count": 16,
   "metadata": {},
   "outputs": [
    {
     "data": {
      "text/html": [
       "<div>\n",
       "<style scoped>\n",
       "    .dataframe tbody tr th:only-of-type {\n",
       "        vertical-align: middle;\n",
       "    }\n",
       "\n",
       "    .dataframe tbody tr th {\n",
       "        vertical-align: top;\n",
       "    }\n",
       "\n",
       "    .dataframe thead th {\n",
       "        text-align: right;\n",
       "    }\n",
       "</style>\n",
       "<table border=\"1\" class=\"dataframe\">\n",
       "  <thead>\n",
       "    <tr style=\"text-align: right;\">\n",
       "      <th></th>\n",
       "      <th>value</th>\n",
       "      <th>error</th>\n",
       "      <th>precision</th>\n",
       "      <th>significance</th>\n",
       "      <th>p_value</th>\n",
       "    </tr>\n",
       "  </thead>\n",
       "  <tbody>\n",
       "    <tr>\n",
       "      <th>mu_WWW</th>\n",
       "      <td>1.001083</td>\n",
       "      <td>0.519374</td>\n",
       "      <td>0.518812</td>\n",
       "      <td>1.994590</td>\n",
       "      <td>0.023044</td>\n",
       "    </tr>\n",
       "    <tr>\n",
       "      <th>mu_WWZ</th>\n",
       "      <td>0.999151</td>\n",
       "      <td>0.647161</td>\n",
       "      <td>0.647711</td>\n",
       "      <td>1.714708</td>\n",
       "      <td>0.043199</td>\n",
       "    </tr>\n",
       "    <tr>\n",
       "      <th>mu_WZZ</th>\n",
       "      <td>0.998764</td>\n",
       "      <td>1.329986</td>\n",
       "      <td>1.331632</td>\n",
       "      <td>0.864676</td>\n",
       "      <td>0.193608</td>\n",
       "    </tr>\n",
       "    <tr>\n",
       "      <th>mu_ZZZ</th>\n",
       "      <td>1.002636</td>\n",
       "      <td>1.695322</td>\n",
       "      <td>1.690865</td>\n",
       "      <td>0.998224</td>\n",
       "      <td>0.159085</td>\n",
       "    </tr>\n",
       "  </tbody>\n",
       "</table>\n",
       "</div>"
      ],
      "text/plain": [
       "           value     error  precision  significance   p_value\n",
       "mu_WWW  1.001083  0.519374   0.518812      1.994590  0.023044\n",
       "mu_WWZ  0.999151  0.647161   0.647711      1.714708  0.043199\n",
       "mu_WZZ  0.998764  1.329986   1.331632      0.864676  0.193608\n",
       "mu_ZZZ  1.002636  1.695322   1.690865      0.998224  0.159085"
      ]
     },
     "execution_count": 16,
     "metadata": {},
     "output_type": "execute_result"
    }
   ],
   "source": [
    "fit_result = asymptotic_discovery_fit(datacard, signal_strengths)\n",
    "fit_result.df_mu"
   ]
  },
  {
   "cell_type": "code",
   "execution_count": 17,
   "metadata": {},
   "outputs": [
    {
     "data": {
      "text/html": [
       "<div>\n",
       "<style scoped>\n",
       "    .dataframe tbody tr th:only-of-type {\n",
       "        vertical-align: middle;\n",
       "    }\n",
       "\n",
       "    .dataframe tbody tr th {\n",
       "        vertical-align: top;\n",
       "    }\n",
       "\n",
       "    .dataframe thead th {\n",
       "        text-align: right;\n",
       "    }\n",
       "</style>\n",
       "<table border=\"1\" class=\"dataframe\">\n",
       "  <thead>\n",
       "    <tr style=\"text-align: right;\">\n",
       "      <th></th>\n",
       "      <th>value</th>\n",
       "      <th>error</th>\n",
       "      <th>precision</th>\n",
       "    </tr>\n",
       "  </thead>\n",
       "  <tbody>\n",
       "  </tbody>\n",
       "</table>\n",
       "</div>"
      ],
      "text/plain": [
       "Empty DataFrame\n",
       "Columns: [value, error, precision]\n",
       "Index: []"
      ]
     },
     "execution_count": 17,
     "metadata": {},
     "output_type": "execute_result"
    }
   ],
   "source": [
    "fit_result.df_nuisance"
   ]
  },
  {
   "cell_type": "markdown",
   "metadata": {},
   "source": [
    "As expected, the nuisance parameter data frame is empty.\n",
    "\n",
    "If you want to add nuisance parameters to the fit, you have to pass the function a list of functions corresponding to the different nuisance parameters. Yes, a list of functions can be a thing in python.\n",
    "\n",
    "As an example, let's try out some 30 % scale uncertainty $\\beta$ on the overall background.\n",
    "\n",
    "The nuisance parameter function must have a very specific interface:\n",
    "* it should take two arguments: the nuisance parameter value and the datacard\n",
    "* it should modify the datacard according to the nuisance parameter (in this example just scale the background category `B` by $\\beta$)\n",
    "* it should return two things: the modified data frame and the penalty term to add to the negative log-lilkelihood"
   ]
  },
  {
   "cell_type": "code",
   "execution_count": 18,
   "metadata": {},
   "outputs": [],
   "source": [
    "def overall_background_nuisance(beta, datacard):\n",
    "    datacard[[\"B\"]] *= beta \n",
    "    return datacard, lognormal_penalty(beta, 0.3)"
   ]
  },
  {
   "cell_type": "markdown",
   "metadata": {},
   "source": [
    "We now put this single nuisance parameter function in a list `nuisances` and pass this to the `asymptotic_discovery_fit` function. You will see the returned nuisances data frame is no longer empty!"
   ]
  },
  {
   "cell_type": "code",
   "execution_count": 19,
   "metadata": {},
   "outputs": [
    {
     "data": {
      "text/html": [
       "<div>\n",
       "<style scoped>\n",
       "    .dataframe tbody tr th:only-of-type {\n",
       "        vertical-align: middle;\n",
       "    }\n",
       "\n",
       "    .dataframe tbody tr th {\n",
       "        vertical-align: top;\n",
       "    }\n",
       "\n",
       "    .dataframe thead th {\n",
       "        text-align: right;\n",
       "    }\n",
       "</style>\n",
       "<table border=\"1\" class=\"dataframe\">\n",
       "  <thead>\n",
       "    <tr style=\"text-align: right;\">\n",
       "      <th></th>\n",
       "      <th>value</th>\n",
       "      <th>error</th>\n",
       "      <th>precision</th>\n",
       "      <th>significance</th>\n",
       "      <th>p_value</th>\n",
       "    </tr>\n",
       "  </thead>\n",
       "  <tbody>\n",
       "    <tr>\n",
       "      <th>mu_WWW</th>\n",
       "      <td>1.091105</td>\n",
       "      <td>1.096367</td>\n",
       "      <td>1.004823</td>\n",
       "      <td>1.003734</td>\n",
       "      <td>0.157753</td>\n",
       "    </tr>\n",
       "    <tr>\n",
       "      <th>mu_WWZ</th>\n",
       "      <td>1.015056</td>\n",
       "      <td>0.667348</td>\n",
       "      <td>0.657449</td>\n",
       "      <td>1.662100</td>\n",
       "      <td>0.048246</td>\n",
       "    </tr>\n",
       "    <tr>\n",
       "      <th>mu_WZZ</th>\n",
       "      <td>1.008001</td>\n",
       "      <td>1.334084</td>\n",
       "      <td>1.323495</td>\n",
       "      <td>0.868460</td>\n",
       "      <td>0.192571</td>\n",
       "    </tr>\n",
       "    <tr>\n",
       "      <th>mu_ZZZ</th>\n",
       "      <td>1.001874</td>\n",
       "      <td>1.692715</td>\n",
       "      <td>1.689549</td>\n",
       "      <td>1.000510</td>\n",
       "      <td>0.158532</td>\n",
       "    </tr>\n",
       "  </tbody>\n",
       "</table>\n",
       "</div>"
      ],
      "text/plain": [
       "           value     error  precision  significance   p_value\n",
       "mu_WWW  1.091105  1.096367   1.004823      1.003734  0.157753\n",
       "mu_WWZ  1.015056  0.667348   0.657449      1.662100  0.048246\n",
       "mu_WZZ  1.008001  1.334084   1.323495      0.868460  0.192571\n",
       "mu_ZZZ  1.001874  1.692715   1.689549      1.000510  0.158532"
      ]
     },
     "execution_count": 19,
     "metadata": {},
     "output_type": "execute_result"
    }
   ],
   "source": [
    "nuisances = [overall_background_nuisance]\n",
    "fit_result = asymptotic_discovery_fit(datacard, signal_strengths, nuisances)\n",
    "fit_result.df_mu"
   ]
  },
  {
   "cell_type": "code",
   "execution_count": 20,
   "metadata": {},
   "outputs": [
    {
     "data": {
      "text/html": [
       "<div>\n",
       "<style scoped>\n",
       "    .dataframe tbody tr th:only-of-type {\n",
       "        vertical-align: middle;\n",
       "    }\n",
       "\n",
       "    .dataframe tbody tr th {\n",
       "        vertical-align: top;\n",
       "    }\n",
       "\n",
       "    .dataframe thead th {\n",
       "        text-align: right;\n",
       "    }\n",
       "</style>\n",
       "<table border=\"1\" class=\"dataframe\">\n",
       "  <thead>\n",
       "    <tr style=\"text-align: right;\">\n",
       "      <th></th>\n",
       "      <th>value</th>\n",
       "      <th>error</th>\n",
       "      <th>precision</th>\n",
       "    </tr>\n",
       "  </thead>\n",
       "  <tbody>\n",
       "    <tr>\n",
       "      <th>beta</th>\n",
       "      <td>0.990954</td>\n",
       "      <td>0.095315</td>\n",
       "      <td>0.096185</td>\n",
       "    </tr>\n",
       "  </tbody>\n",
       "</table>\n",
       "</div>"
      ],
      "text/plain": [
       "         value     error  precision\n",
       "beta  0.990954  0.095315   0.096185"
      ]
     },
     "execution_count": 20,
     "metadata": {},
     "output_type": "execute_result"
    }
   ],
   "source": [
    "fit_result.df_nuisance"
   ]
  },
  {
   "cell_type": "markdown",
   "metadata": {},
   "source": [
    "That worked great! As expected, adding an overall 30 % uncertainty on the background changed the expected significance quite a bit, especially for the *WWW* analysis because it has a lot of background."
   ]
  },
  {
   "cell_type": "markdown",
   "metadata": {},
   "source": [
    "## Conclusion\n",
    "\n",
    "You know now how to encorporate systematic uncertainties in your analysis correctly. The only issue that we didn't discuss is asymmetric uncertainties, where the uncertainty in one direction is higher than in the other direction. This is done quite a lot in CMS by interpolating different distributions functions on each side, which would be a bit too much detail for this project.\n",
    "\n",
    "You learned how to implement systematic uncertainties in our fitting tool: this is done in a very general way by defining a function for each nuisance parameter that morphs the datacard and returns a negative log-likelihood penalty.\n",
    "\n",
    "**What you could do if you like a good challenge (might take too long for this project):** can you consider the statisitical uncertainty from Monte Carlo as a systematic uncertainty in your four lepton analsyis? We discussed how to get these uncertainties in an earlier exercice. Using them as systematics will not be easy, because you need to add one nuisance parameter per bin, as they are uncorrelated!"
   ]
  }
 ],
 "metadata": {
  "kernelspec": {
   "display_name": "Python 3",
   "language": "python",
   "name": "python3"
  },
  "language_info": {
   "codemirror_mode": {
    "name": "ipython",
    "version": 3
   },
   "file_extension": ".py",
   "mimetype": "text/x-python",
   "name": "python",
   "nbconvert_exporter": "python",
   "pygments_lexer": "ipython3",
   "version": "3.8.2"
  }
 },
 "nbformat": 4,
 "nbformat_minor": 2
}
