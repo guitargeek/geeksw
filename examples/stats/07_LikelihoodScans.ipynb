{
 "cells": [
  {
   "cell_type": "markdown",
   "metadata": {},
   "source": [
    "# Likelihood Scans and Signal Strength Measurements"
   ]
  },
  {
   "cell_type": "markdown",
   "metadata": {},
   "source": [
    "Now that you are very familiar with asymptotic discovery significance estimates and nuisance parameters, let us see what else we can do with the likelihood function.\n",
    "\n",
    "Very often, one plots two times the negative log-likelihood, $-2\\cdot\\log(\\mathcal{L})$, against the parameter of interest, because there is a nice graphical way to determine the uncertainty of the parameter estimate.\n",
    "\n",
    "Let's get started by by agin importing our `asymptotic_discovery_fit` function and `make_nll_func` the `make_nll_func`, which is just creating the likelihood function without fitting it or fixing any paramters."
   ]
  },
  {
   "cell_type": "code",
   "execution_count": 1,
   "metadata": {},
   "outputs": [],
   "source": [
    "import numpy as np\n",
    "import pandas as pd\n",
    "import matplotlib.pyplot as plt"
   ]
  },
  {
   "cell_type": "code",
   "execution_count": 2,
   "metadata": {},
   "outputs": [],
   "source": [
    "from geeksw.stats.statistics_tools import asymptotic_discovery_fit, make_nll_func"
   ]
  },
  {
   "cell_type": "markdown",
   "metadata": {},
   "source": [
    "Again, we take as a \"toy\" experiment an old version of the CMS analysis results:"
   ]
  },
  {
   "cell_type": "code",
   "execution_count": 3,
   "metadata": {},
   "outputs": [],
   "source": [
    "datacard = pd.DataFrame(dict(WWW=[27.90, 16.07, 0, 0, 0],\n",
    "                             WWZ=[0.91, 0.91, 8.57, 0, 0],\n",
    "                             WZZ=[0.18, 0.01, 0.34, 1.08, 0.01],\n",
    "                             ZZZ=[0, 0, 0.07, 0.25, 0.41],\n",
    "                             VH_WWW=[17.62, 8.47, 0, 0, 0],\n",
    "                             VH_WWZ=[0, 0,  5.6+0.09+0.17, 0, 0],\n",
    "                             VH_WZZ=[0.0, 0, 0, 0, 0],\n",
    "                             VH_ZZZ=[0.0, 0, 0, 0, 0],\n",
    "                             B=[447.21, 94.99, 15.76, 0.55, 0.06]),\n",
    "                        index=[\"SSplusJets\", \"3leptons\", \"4leptons\", \"5leptons\", \"6leptons\"])\n",
    "datacard.index.name = \"bin\""
   ]
  },
  {
   "cell_type": "code",
   "execution_count": 4,
   "metadata": {},
   "outputs": [
    {
     "data": {
      "text/html": [
       "<div>\n",
       "<style scoped>\n",
       "    .dataframe tbody tr th:only-of-type {\n",
       "        vertical-align: middle;\n",
       "    }\n",
       "\n",
       "    .dataframe tbody tr th {\n",
       "        vertical-align: top;\n",
       "    }\n",
       "\n",
       "    .dataframe thead th {\n",
       "        text-align: right;\n",
       "    }\n",
       "</style>\n",
       "<table border=\"1\" class=\"dataframe\">\n",
       "  <thead>\n",
       "    <tr style=\"text-align: right;\">\n",
       "      <th></th>\n",
       "      <th>WWW</th>\n",
       "      <th>WWZ</th>\n",
       "      <th>WZZ</th>\n",
       "      <th>ZZZ</th>\n",
       "      <th>VH_WWW</th>\n",
       "      <th>VH_WWZ</th>\n",
       "      <th>VH_WZZ</th>\n",
       "      <th>VH_ZZZ</th>\n",
       "      <th>B</th>\n",
       "    </tr>\n",
       "    <tr>\n",
       "      <th>bin</th>\n",
       "      <th></th>\n",
       "      <th></th>\n",
       "      <th></th>\n",
       "      <th></th>\n",
       "      <th></th>\n",
       "      <th></th>\n",
       "      <th></th>\n",
       "      <th></th>\n",
       "      <th></th>\n",
       "    </tr>\n",
       "  </thead>\n",
       "  <tbody>\n",
       "    <tr>\n",
       "      <th>SSplusJets</th>\n",
       "      <td>27.90</td>\n",
       "      <td>0.91</td>\n",
       "      <td>0.18</td>\n",
       "      <td>0.00</td>\n",
       "      <td>17.62</td>\n",
       "      <td>0.00</td>\n",
       "      <td>0.0</td>\n",
       "      <td>0.0</td>\n",
       "      <td>447.21</td>\n",
       "    </tr>\n",
       "    <tr>\n",
       "      <th>3leptons</th>\n",
       "      <td>16.07</td>\n",
       "      <td>0.91</td>\n",
       "      <td>0.01</td>\n",
       "      <td>0.00</td>\n",
       "      <td>8.47</td>\n",
       "      <td>0.00</td>\n",
       "      <td>0.0</td>\n",
       "      <td>0.0</td>\n",
       "      <td>94.99</td>\n",
       "    </tr>\n",
       "    <tr>\n",
       "      <th>4leptons</th>\n",
       "      <td>0.00</td>\n",
       "      <td>8.57</td>\n",
       "      <td>0.34</td>\n",
       "      <td>0.07</td>\n",
       "      <td>0.00</td>\n",
       "      <td>5.86</td>\n",
       "      <td>0.0</td>\n",
       "      <td>0.0</td>\n",
       "      <td>15.76</td>\n",
       "    </tr>\n",
       "    <tr>\n",
       "      <th>5leptons</th>\n",
       "      <td>0.00</td>\n",
       "      <td>0.00</td>\n",
       "      <td>1.08</td>\n",
       "      <td>0.25</td>\n",
       "      <td>0.00</td>\n",
       "      <td>0.00</td>\n",
       "      <td>0.0</td>\n",
       "      <td>0.0</td>\n",
       "      <td>0.55</td>\n",
       "    </tr>\n",
       "    <tr>\n",
       "      <th>6leptons</th>\n",
       "      <td>0.00</td>\n",
       "      <td>0.00</td>\n",
       "      <td>0.01</td>\n",
       "      <td>0.41</td>\n",
       "      <td>0.00</td>\n",
       "      <td>0.00</td>\n",
       "      <td>0.0</td>\n",
       "      <td>0.0</td>\n",
       "      <td>0.06</td>\n",
       "    </tr>\n",
       "  </tbody>\n",
       "</table>\n",
       "</div>"
      ],
      "text/plain": [
       "              WWW   WWZ   WZZ   ZZZ  VH_WWW  VH_WWZ  VH_WZZ  VH_ZZZ       B\n",
       "bin                                                                        \n",
       "SSplusJets  27.90  0.91  0.18  0.00   17.62    0.00     0.0     0.0  447.21\n",
       "3leptons    16.07  0.91  0.01  0.00    8.47    0.00     0.0     0.0   94.99\n",
       "4leptons     0.00  8.57  0.34  0.07    0.00    5.86     0.0     0.0   15.76\n",
       "5leptons     0.00  0.00  1.08  0.25    0.00    0.00     0.0     0.0    0.55\n",
       "6leptons     0.00  0.00  0.01  0.41    0.00    0.00     0.0     0.0    0.06"
      ]
     },
     "execution_count": 4,
     "metadata": {},
     "output_type": "execute_result"
    }
   ],
   "source": [
    "datacard"
   ]
  },
  {
   "cell_type": "markdown",
   "metadata": {},
   "source": [
    "For this example, we consider all the posible *VVV* final states as one signal, and all *VH_VVV* final states as another signal:"
   ]
  },
  {
   "cell_type": "code",
   "execution_count": 5,
   "metadata": {},
   "outputs": [],
   "source": [
    "signal_strengths = dict(mu_vvv=\"WWZ+WZZ+ZZZ\", mu_vh=\"VH_WWZ+VH_WZZ+VH_ZZZ\")"
   ]
  },
  {
   "cell_type": "markdown",
   "metadata": {},
   "source": [
    "## One Dimentional Likelihood Scans"
   ]
  },
  {
   "cell_type": "markdown",
   "metadata": {},
   "source": [
    "First, we forget about any fitting and just scan the likelihood function over one parameter of interest, while fixing the other one to the standart model value, where the expected signal strength is one.\n",
    "\n",
    "We build the likelihood function from the datacard and the signal strength definition:"
   ]
  },
  {
   "cell_type": "code",
   "execution_count": 6,
   "metadata": {},
   "outputs": [],
   "source": [
    "nll_func = make_nll_func(datacard, signal_strengths)"
   ]
  },
  {
   "cell_type": "markdown",
   "metadata": {},
   "source": [
    "Let's compute the likelihood for different values of the $VVV$ signal strength between 0 and 2. Unfortunately, the likelihood function is not vectorized, so you need to loop over the values in a Python loop:"
   ]
  },
  {
   "cell_type": "code",
   "execution_count": 7,
   "metadata": {},
   "outputs": [],
   "source": [
    "mus = np.linspace(0.0, 2.0, 200)\n",
    "nlls = np.zeros(len(mus))\n",
    "\n",
    "for i, mu in enumerate(mus):\n",
    "    nlls[i] = nll_func(mu_vvv=mu, mu_vh=1.0)"
   ]
  },
  {
   "cell_type": "markdown",
   "metadata": {},
   "source": [
    "Since we are only interested in the minimum of the negative log-likelihood and not the absolute value, we can subtract the minimum value to have the minimum at zero:"
   ]
  },
  {
   "cell_type": "code",
   "execution_count": 8,
   "metadata": {},
   "outputs": [],
   "source": [
    "nlls = nlls - np.min(nlls)"
   ]
  },
  {
   "cell_type": "markdown",
   "metadata": {},
   "source": [
    "Finally, do the plot:"
   ]
  },
  {
   "cell_type": "code",
   "execution_count": 9,
   "metadata": {},
   "outputs": [
    {
     "data": {
      "image/png": "[encoded data removed]",
      "text/plain": [
       "<Figure size 432x288 with 1 Axes>"
      ]
     },
     "metadata": {
      "needs_background": "light"
     },
     "output_type": "display_data"
    }
   ],
   "source": [
    "plt.plot(mus, 2.*nlls)\n",
    "plt.xlim(0, 2.0)\n",
    "plt.ylim(0, plt.ylim()[1])\n",
    "plt.plot([0,2.0], [1,1], 'k--', linewidth=1)\n",
    "plt.plot([0,2.0], [4,4], 'k--', linewidth=1)\n",
    "plt.xlabel(r\"$\\mu_{VVV}$\")\n",
    "plt.ylabel(r\"$-2\\Delta\\log{\\mathcal{L}}$\")\n",
    "plt.show()"
   ]
  },
  {
   "cell_type": "markdown",
   "metadata": {},
   "source": [
    "That looks like something you'd see in a paper by CMS or ATLAS! But why did I draw these dashed constant lines?\n",
    "\n",
    "The best estimate for the signal strengh is at the minimum, so here at 1.0 by definition as long as we only look at Monte Carlo. The **variance of the maximum likelihood estimator** can be determined by figuring out in which interval $-2\\Delta\\log{\\mathcal{L}}$ is smaller than one. This corresponds to one standard deviation is the case of a Gaussian likelihood and the interval can be interpreted as a **confidence interval**.\n",
    "\n",
    "If you want to understand this in detail, I recommend that you read a bit more about likelihood fits, for example in Glen Cowans book \"[Statistical Data Analysis](https://www.amazon.de/dp/0198501552)\" (Section 6.6). The general argument invokes more sophisticated statistical concepts like the [Cranér-Rao bound](https://en.wikipedia.org/wiki/Cram%C3%A9r%E2%80%93Rao_bound).\n",
    "\n",
    "However, this is really easy to understand in the case of a Gaussian Likelihood, which is usually true in the large sample limit due to the [central limit theorem](https://en.wikipedia.org/wiki/Central_limit_theorem). Just look at the logarithm of a Gaussian distribution! It will get clear that $-2\\Delta\\log{\\mathcal{L}}$ will be one when you are one standard deviation away from the mean.\n",
    "\n",
    "The cool thing however is that this method of determining confidence intervals is also valid in the non-Gaussian case."
   ]
  },
  {
   "cell_type": "markdown",
   "metadata": {},
   "source": [
    "## Profiled One Dimensional Likelihood Scans"
   ]
  },
  {
   "cell_type": "markdown",
   "metadata": {},
   "source": [
    "But what do we do if there is more than one unknown parameter? For example when we have plenty of nuisance parameters, or multiple parameters of interest like in our case with $\\mu_{VVV}$ and $\\mu_{VH}$?\n",
    "\n",
    "In that case, you can't fix these other parameters to a certain value when you do the likelihood scan, but you have to optimize them for *every single value* of the parameter of interest that you scan over. This is called \"profiling out\" the other parameters, like in the profile likelihood ratio we computed for the discovery test. It will get apparent why it's called profiling in a minute."
   ]
  },
  {
   "cell_type": "markdown",
   "metadata": {},
   "source": [
    "Since not all parameters have to be fixed now, we can't just use the likelihood function but need to do some fits again. Fortunately, the `asymptotic_discovery_fit` also returns the negative log-likelihood value in the fit result:"
   ]
  },
  {
   "cell_type": "code",
   "execution_count": 10,
   "metadata": {},
   "outputs": [
    {
     "name": "stdout",
     "output_type": "stream",
     "text": [
      "NLL: -3098.1474309132514\n"
     ]
    },
    {
     "data": {
      "text/html": [
       "<div>\n",
       "<style scoped>\n",
       "    .dataframe tbody tr th:only-of-type {\n",
       "        vertical-align: middle;\n",
       "    }\n",
       "\n",
       "    .dataframe tbody tr th {\n",
       "        vertical-align: top;\n",
       "    }\n",
       "\n",
       "    .dataframe thead th {\n",
       "        text-align: right;\n",
       "    }\n",
       "</style>\n",
       "<table border=\"1\" class=\"dataframe\">\n",
       "  <thead>\n",
       "    <tr style=\"text-align: right;\">\n",
       "      <th></th>\n",
       "      <th>value</th>\n",
       "      <th>error</th>\n",
       "      <th>precision</th>\n",
       "      <th>significance</th>\n",
       "      <th>p_value</th>\n",
       "    </tr>\n",
       "  </thead>\n",
       "  <tbody>\n",
       "    <tr>\n",
       "      <th>mu_vvv</th>\n",
       "      <td>1.000405</td>\n",
       "      <td>0.850434</td>\n",
       "      <td>0.850090</td>\n",
       "      <td>1.768385</td>\n",
       "      <td>0.038498</td>\n",
       "    </tr>\n",
       "    <tr>\n",
       "      <th>mu_vh</th>\n",
       "      <td>0.999386</td>\n",
       "      <td>1.596011</td>\n",
       "      <td>1.596992</td>\n",
       "      <td>0.572297</td>\n",
       "      <td>0.283560</td>\n",
       "    </tr>\n",
       "  </tbody>\n",
       "</table>\n",
       "</div>"
      ],
      "text/plain": [
       "           value     error  precision  significance   p_value\n",
       "mu_vvv  1.000405  0.850434   0.850090      1.768385  0.038498\n",
       "mu_vh   0.999386  1.596011   1.596992      0.572297  0.283560"
      ]
     },
     "execution_count": 10,
     "metadata": {},
     "output_type": "execute_result"
    }
   ],
   "source": [
    "fit_result = asymptotic_discovery_fit(datacard, signal_strengths)\n",
    "print(\"NLL:\", fit_result.nll_value)\n",
    "fit_result.df_mu"
   ]
  },
  {
   "cell_type": "markdown",
   "metadata": {},
   "source": [
    "There is also another feature of the fitting function that we can use now. You can fit parameters for *all fits* (that means also during the determination of the profile likelihood ratio and therefore significance) with the `fixed_params` keyword argument, which takes a dictionary of parameter names and values to fix."
   ]
  },
  {
   "cell_type": "code",
   "execution_count": 11,
   "metadata": {},
   "outputs": [
    {
     "name": "stdout",
     "output_type": "stream",
     "text": [
      "NLL: -3098.1474310152057\n"
     ]
    },
    {
     "data": {
      "text/html": [
       "<div>\n",
       "<style scoped>\n",
       "    .dataframe tbody tr th:only-of-type {\n",
       "        vertical-align: middle;\n",
       "    }\n",
       "\n",
       "    .dataframe tbody tr th {\n",
       "        vertical-align: top;\n",
       "    }\n",
       "\n",
       "    .dataframe thead th {\n",
       "        text-align: right;\n",
       "    }\n",
       "</style>\n",
       "<table border=\"1\" class=\"dataframe\">\n",
       "  <thead>\n",
       "    <tr style=\"text-align: right;\">\n",
       "      <th></th>\n",
       "      <th>value</th>\n",
       "      <th>error</th>\n",
       "      <th>precision</th>\n",
       "      <th>significance</th>\n",
       "      <th>p_value</th>\n",
       "    </tr>\n",
       "  </thead>\n",
       "  <tbody>\n",
       "    <tr>\n",
       "      <th>mu_vvv</th>\n",
       "      <td>0.999945</td>\n",
       "      <td>0.502931</td>\n",
       "      <td>0.502958</td>\n",
       "      <td>2.535136</td>\n",
       "      <td>0.00562</td>\n",
       "    </tr>\n",
       "    <tr>\n",
       "      <th>mu_vh</th>\n",
       "      <td>1.000000</td>\n",
       "      <td>NaN</td>\n",
       "      <td>NaN</td>\n",
       "      <td>NaN</td>\n",
       "      <td>NaN</td>\n",
       "    </tr>\n",
       "  </tbody>\n",
       "</table>\n",
       "</div>"
      ],
      "text/plain": [
       "           value     error  precision  significance  p_value\n",
       "mu_vvv  0.999945  0.502931   0.502958      2.535136  0.00562\n",
       "mu_vh   1.000000       NaN        NaN           NaN      NaN"
      ]
     },
     "execution_count": 11,
     "metadata": {},
     "output_type": "execute_result"
    }
   ],
   "source": [
    "fit_result = asymptotic_discovery_fit(datacard, signal_strengths, fixed_params={\"mu_vh\" : 1.0})\n",
    "print(\"NLL:\", fit_result.nll_value)\n",
    "fit_result.df_mu"
   ]
  },
  {
   "cell_type": "markdown",
   "metadata": {},
   "source": [
    "Significance estimate is not really meaningful for other signal strength estimates than one, so these columns are disabled when you fix paramteres. As expected, the sensitivity to $\\mu_{VVV}$ grows when $\\mu_{VH}$ is fixed and not fit at the same time."
   ]
  },
  {
   "cell_type": "markdown",
   "metadata": {},
   "source": [
    "In the following, we use this `fixed_params` argument to fix $\\mu_{VVV}$ to the scan value, but let $\\mu_{VH}$ float free. How do you expect the resulting likelihood curve to change?\n",
    "\n",
    "We use a `linspace` with a little less points this time (20 instead of 200), because fitting for each point takes of course longer than just evaluating the likelihood function for fixed parameters."
   ]
  },
  {
   "cell_type": "code",
   "execution_count": 12,
   "metadata": {},
   "outputs": [],
   "source": [
    "mus = np.linspace(0, 2.5, 20)\n",
    "nlls = np.zeros(len(mus))\n",
    "nlls_profile = np.zeros(len(mus))\n",
    "\n",
    "for i, mu in enumerate(mus):\n",
    "    nlls[i] = asymptotic_discovery_fit(datacard,\n",
    "                                        signal_strengths,\n",
    "                                        fixed_params={\"mu_vvv\" : mu,\n",
    "                                                      \"mu_vh\" : 1.0}\n",
    "                                       ).nll_value\n",
    "    nlls_profile[i] = asymptotic_discovery_fit(datacard,\n",
    "                                               signal_strengths,\n",
    "                                               fixed_params={\"mu_vvv\" : mu}\n",
    "                                              ).nll_value\n",
    "    \n",
    "nlls = nlls - np.min(nlls)\n",
    "nlls_profile = nlls_profile - np.min(nlls_profile)"
   ]
  },
  {
   "cell_type": "markdown",
   "metadata": {},
   "source": [
    "Finally, the plot:"
   ]
  },
  {
   "cell_type": "code",
   "execution_count": 13,
   "metadata": {},
   "outputs": [
    {
     "data": {
      "image/png": "[encoded data removed]",
      "text/plain": [
       "<Figure size 432x288 with 1 Axes>"
      ]
     },
     "metadata": {
      "needs_background": "light"
     },
     "output_type": "display_data"
    }
   ],
   "source": [
    "plt.plot(mus, 2.*nlls, label=r\"$\\mu_{VH}$ fixed\")\n",
    "plt.plot(mus, 2.*nlls_profile, label=r\"$\\mu_{VH}$ floating\")\n",
    "plt.xlim(0, 2.5)\n",
    "plt.plot([0,2.5], [1,1], 'k--', linewidth=1)\n",
    "plt.plot([0,2.5], [4,4], 'k--', linewidth=1)\n",
    "plt.xlabel(r\"$\\mu_{VVV}$\")\n",
    "plt.ylabel(r\"$-2\\Delta\\log{\\mathcal{L}}$\")\n",
    "plt.ylim(0, plt.ylim()[1])\n",
    "plt.legend()\n",
    "plt.show()"
   ]
  },
  {
   "cell_type": "markdown",
   "metadata": {},
   "source": [
    "Of course the likelihood increases if we allow $\\mu_{VH}$ to take the best fit value for every value of $\\mu_{VVV}$! That's why the negative log likelihood decreases and the confidence interval for $\\mu_{VVV}$ grows. In fact, it also becomes asymmetric, so if you'd quote this signal strength as a measurement result, you would have to give one upper and one lower uncertainty.\n",
    "\n",
    "Very often, the parameters that we profile over are the nuisance parameters which represent systematic uncertainties. In such a case, the profile likelihood curve gives you the result including systematic uncertainties, while fixing the nuisance parameters gives you a curve that only shows the statistical uncertainty.\n",
    "\n",
    "In high energy physics, we often show both scans in a single plot to highlight the impact of nuisance parameters. In particular, one can obtain a value for the final systematic uncertainty by subtracting the statistical uncertainty from the total uncertainty in quartrature."
   ]
  },
  {
   "cell_type": "markdown",
   "metadata": {},
   "source": [
    "## Two Dimensional Likelihood Scans"
   ]
  },
  {
   "cell_type": "markdown",
   "metadata": {},
   "source": [
    "Finally, we will take a look at two dimensional likelihood scans, which are often done when you have two potentionally correlated paramteres of interest. Our two parameters of interest are of course $\\mu_{VVV}$ and $\\mu_{VH}$.\n",
    "\n",
    "If we keep on ignoring systematic uncertainties, there are no other nuisance parameters in our model and we don't need to do any fitting. Profiling over nuisance parameters would take too long here anyway, because for the 2D plot we need of course to evaluate exponentially more points to have a clean figure.\n",
    "\n",
    "Anyway, we just get the fit result once so we know the value of the minimum and can subtract it later:"
   ]
  },
  {
   "cell_type": "code",
   "execution_count": 14,
   "metadata": {},
   "outputs": [],
   "source": [
    "fit_result = asymptotic_discovery_fit(datacard, signal_strengths, [])"
   ]
  },
  {
   "cell_type": "markdown",
   "metadata": {},
   "source": [
    "Next, we write a little wrapper function around our likelihood function which can also accept arrays of parameters:"
   ]
  },
  {
   "cell_type": "code",
   "execution_count": 15,
   "metadata": {},
   "outputs": [],
   "source": [
    "def vectorized_two_nll_func(x, y):\n",
    "    results = []\n",
    "    for xi, yi in zip(x.flatten(), y.flatten()):\n",
    "        results.append(nll_func(mu_vvv=xi, mu_vh=yi, beta=1.))\n",
    "    return 2 * (np.array(results).reshape(x.shape) - fit_result.nll_value)"
   ]
  },
  {
   "cell_type": "markdown",
   "metadata": {},
   "source": [
    "We can conveniently use this function to evaluate a \"meshgrid\" of points in the two dimensional plane (inspired by [this matplotlib demo](https://matplotlib.org/3.1.1/gallery/images_contours_and_fields/contour_demo.html)):"
   ]
  },
  {
   "cell_type": "code",
   "execution_count": 16,
   "metadata": {},
   "outputs": [],
   "source": [
    "x = np.linspace(0.0, 2.23, 30)\n",
    "y = np.linspace(-1.0, 2.8, 30)\n",
    "\n",
    "X, Y = np.meshgrid(x, y)\n",
    "s = np.sqrt(vectorized_two_nll_func(X, Y))"
   ]
  },
  {
   "cell_type": "markdown",
   "metadata": {},
   "source": [
    "Note that in the end we too the  square root to plot something which would correspond to the standard deviation in the case of a Gaussian likelihood. Let's do the plot:"
   ]
  },
  {
   "cell_type": "code",
   "execution_count": 17,
   "metadata": {},
   "outputs": [
    {
     "data": {
      "image/png": "[encoded data removed]",
      "text/plain": [
       "<Figure size 432x288 with 1 Axes>"
      ]
     },
     "metadata": {
      "needs_background": "light"
     },
     "output_type": "display_data"
    }
   ],
   "source": [
    "cs = plt.contour(X, Y, s, levels=[1.0, 2.0])\n",
    "plt.gca().clabel(cs, inline=1, fontsize=10, fmt=r'%1.0f $\\sigma$')\n",
    "plt.xlim(*plt.xlim())\n",
    "plt.ylim(*plt.ylim())\n",
    "plt.plot([1, 1], [-1.0, 2.8], 'k--', linewidth=1.0)\n",
    "plt.plot([0, 2.2], [1,1], 'k--', linewidth=1.0)\n",
    "plt.plot(*fit_result.df_mu.value, 'ko')\n",
    "plt.xlabel(\"VVV signal strength\")\n",
    "plt.ylabel(\"VH to VVV signal strength\")\n",
    "plt.title(\"Likelihood profile (Monte Carlo)\")\n",
    "plt.show()"
   ]
  },
  {
   "cell_type": "markdown",
   "metadata": {},
   "source": [
    "Now it should get clear how everything is connected and why the \"profiled likelihood\" is called like that! Plase compare this 2D scan to the previous plot which compared the profiled likelihood scan with the scan there $\\mu_{VH}$ was fixed. You should observe:\n",
    "\n",
    "If you read the 2D plot at $\\mu_{VH} = 1.0$ (so 1.0 on the y-axis), you will find back the confidence interval that we obtained without profiling. If you take a close look at the purple $1 \\sigma$ confidence area, then you observe that the profile of the area when projected on the x-axis ($\\mu_{VVV}$) extends from roughtly 0.3 to 2.0. That is exactly the same answer we got with the profiled likelihood scan!"
   ]
  },
  {
   "cell_type": "markdown",
   "metadata": {},
   "source": [
    "# Conclusion and Tasks"
   ]
  },
  {
   "cell_type": "markdown",
   "metadata": {},
   "source": [
    "You now know about all the statistical tools you can use to interpret your four-lepton data:\n",
    "* Estimating discovery significance with asymptotic formulas\n",
    "* Likelihood scans in 1D and 2D\n",
    "* Profiles Likelihood scans\n",
    "* Measuring signal strength with confidence interval\n",
    "* How to treat systematic uncertainties using nuisance parameters"
   ]
  }
 ],
 "metadata": {
  "kernelspec": {
   "display_name": "Python 3",
   "language": "python",
   "name": "python3"
  },
  "language_info": {
   "codemirror_mode": {
    "name": "ipython",
    "version": 3
   },
   "file_extension": ".py",
   "mimetype": "text/x-python",
   "name": "python",
   "nbconvert_exporter": "python",
   "pygments_lexer": "ipython3",
   "version": "3.8.2"
  }
 },
 "nbformat": 4,
 "nbformat_minor": 2
}
