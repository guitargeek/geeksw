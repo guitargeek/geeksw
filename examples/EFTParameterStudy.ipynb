{
 "cells": [
  {
   "cell_type": "markdown",
   "metadata": {},
   "source": [
    "# EFT Parameter studies at Generator-Level\n",
    "\n",
    "This example shows how to use the LHEReader from geeksw to do quick sensitivity studies to EFT parameters.\n",
    "\n",
    "Make sure you have the uproot_methods and awkward libraries installed. We will use them to group the particles."
   ]
  },
  {
   "cell_type": "code",
   "execution_count": 1,
   "metadata": {},
   "outputs": [],
   "source": [
    "from geeksw.lhe import LHEReader, get_p4_array\n",
    "\n",
    "import numpy as np\n",
    "import matplotlib.pyplot as plt\n",
    "\n",
    "import uproot_methods\n",
    "import  awkward"
   ]
  },
  {
   "cell_type": "markdown",
   "metadata": {},
   "source": [
    "We use an example LHE dataset that was simulated with Madgraph:\n",
    "```\n",
    "import model SM_Ltotal_Ind5v2020v2_UFO\n",
    "generate p p > z z z NP=1\n",
    "output ZZZ\n",
    "launch\n",
    "```\n",
    "In the launch configuration, madspin was enabled and all EFT parameters were set to zero in the parameter card, except for `ft9` which was set to `5.000000e-12` such that the high-mass tail is well populated. The reweighting card was populated as follows:\n",
    "```\n",
    "change mode NLO    # Define type of Reweighting. For LO sample this command\n",
    "                   # has no effect since only \"LO\" mode is allowed.\n",
    "change helicity False\n",
    "change rwgt_dir rwgt\n",
    "launch --rwgt_name=FT9_0\n",
    "set anoinputs 21 0.000000e-12\n",
    "launch --rwgt_name=FT9_1\n",
    "set anoinputs 21 1.000000e-12\n",
    "launch --rwgt_name=FT9_1p5\n",
    "set anoinputs 21 1.500000e-12\n",
    "launch --rwgt_name=FT9_2p5\n",
    "set anoinputs 21 2.500000e-12\n",
    "launch --rwgt_name=FT9_4\n",
    "set anoinputs 21 4.000000e-12\n",
    "launch --rwgt_name=FT9_5\n",
    "set anoinputs 21 5.000000e-12\n",
    "launch --rwgt_name=FT9_m1\n",
    "set anoinputs 21 -1.000000e-12\n",
    "launch --rwgt_name=FT9_m1p5\n",
    "set anoinputs 21 -1.500000e-12\n",
    "launch --rwgt_name=FT9_m2p5\n",
    "set anoinputs 21 -2.500000e-12\n",
    "launch --rwgt_name=FT9_m4\n",
    "set anoinputs 21 -4.000000e-12\n",
    "launch --rwgt_name=FT9_m5\n",
    "set anoinputs 21 -5.000000e-12\n",
    "```"
   ]
  },
  {
   "cell_type": "markdown",
   "metadata": {},
   "source": [
    "The dataset in the LHE format can be downloaded here:\n",
    "<https://duck.jonaslan.de/geeksw-test-data/lhe_data/zzz_ft9.lhe.gz>."
   ]
  },
  {
   "cell_type": "markdown",
   "metadata": {},
   "source": [
    "The LHE reader loads to whole LHE file into memory so it can quickly parse the events later on, so creating this object takes a few seconds. For a quick try, you can set `maxevents` to something lower than the number of events in the dataset (100k)."
   ]
  },
  {
   "cell_type": "code",
   "execution_count": 2,
   "metadata": {
    "scrolled": false
   },
   "outputs": [
    {
     "name": "stderr",
     "output_type": "stream",
     "text": [
      "Copying LHE file into memory: 100%|██████████| 10000/10000 [00:01<00:00, 5292.48 events/s]\n"
     ]
    }
   ],
   "source": [
    "lhe_reader = LHEReader(\"zzz_ft9.lhe.gz\", maxevents=10000)"
   ]
  },
  {
   "cell_type": "markdown",
   "metadata": {},
   "source": [
    "We ask the LHEReader to extract data frames with the particles and the weights for us:"
   ]
  },
  {
   "cell_type": "code",
   "execution_count": 3,
   "metadata": {},
   "outputs": [
    {
     "name": "stderr",
     "output_type": "stream",
     "text": [
      "Iterating over LHE events: 100%|██████████| 10000/10000 [00:06<00:00, 1565.69 events/s]\n"
     ]
    }
   ],
   "source": [
    "particles = lhe_reader.particle_data_frame()\n",
    "weights = lhe_reader.reweighting_data_frame()"
   ]
  },
  {
   "cell_type": "markdown",
   "metadata": {},
   "source": [
    "Let's look at the particles in the first event to see the available information: "
   ]
  },
  {
   "cell_type": "code",
   "execution_count": 4,
   "metadata": {},
   "outputs": [
    {
     "data": {
      "text/html": [
       "<div>\n",
       "<style scoped>\n",
       "    .dataframe tbody tr th:only-of-type {\n",
       "        vertical-align: middle;\n",
       "    }\n",
       "\n",
       "    .dataframe tbody tr th {\n",
       "        vertical-align: top;\n",
       "    }\n",
       "\n",
       "    .dataframe thead th {\n",
       "        text-align: right;\n",
       "    }\n",
       "</style>\n",
       "<table border=\"1\" class=\"dataframe\">\n",
       "  <thead>\n",
       "    <tr style=\"text-align: right;\">\n",
       "      <th></th>\n",
       "      <th>event</th>\n",
       "      <th>pdgid</th>\n",
       "      <th>status</th>\n",
       "      <th>mother1</th>\n",
       "      <th>mother2</th>\n",
       "      <th>color1</th>\n",
       "      <th>color2</th>\n",
       "      <th>px</th>\n",
       "      <th>py</th>\n",
       "      <th>pz</th>\n",
       "      <th>energy</th>\n",
       "      <th>mass</th>\n",
       "      <th>lifetime</th>\n",
       "      <th>spin</th>\n",
       "    </tr>\n",
       "  </thead>\n",
       "  <tbody>\n",
       "    <tr>\n",
       "      <th>0</th>\n",
       "      <td>0</td>\n",
       "      <td>-1</td>\n",
       "      <td>-1</td>\n",
       "      <td>0</td>\n",
       "      <td>0</td>\n",
       "      <td>0</td>\n",
       "      <td>501</td>\n",
       "      <td>0.000000</td>\n",
       "      <td>0.000000</td>\n",
       "      <td>45.027949</td>\n",
       "      <td>45.027949</td>\n",
       "      <td>0.000000</td>\n",
       "      <td>0.0</td>\n",
       "      <td>1.0</td>\n",
       "    </tr>\n",
       "    <tr>\n",
       "      <th>1</th>\n",
       "      <td>0</td>\n",
       "      <td>1</td>\n",
       "      <td>-1</td>\n",
       "      <td>0</td>\n",
       "      <td>0</td>\n",
       "      <td>501</td>\n",
       "      <td>0</td>\n",
       "      <td>0.000000</td>\n",
       "      <td>0.000000</td>\n",
       "      <td>-2168.058254</td>\n",
       "      <td>2168.058254</td>\n",
       "      <td>0.000000</td>\n",
       "      <td>0.0</td>\n",
       "      <td>-1.0</td>\n",
       "    </tr>\n",
       "    <tr>\n",
       "      <th>2</th>\n",
       "      <td>0</td>\n",
       "      <td>23</td>\n",
       "      <td>2</td>\n",
       "      <td>1</td>\n",
       "      <td>2</td>\n",
       "      <td>0</td>\n",
       "      <td>0</td>\n",
       "      <td>124.485921</td>\n",
       "      <td>-2.129748</td>\n",
       "      <td>-235.664992</td>\n",
       "      <td>280.944158</td>\n",
       "      <td>88.827648</td>\n",
       "      <td>0.0</td>\n",
       "      <td>0.0</td>\n",
       "    </tr>\n",
       "    <tr>\n",
       "      <th>3</th>\n",
       "      <td>0</td>\n",
       "      <td>3</td>\n",
       "      <td>1</td>\n",
       "      <td>3</td>\n",
       "      <td>3</td>\n",
       "      <td>502</td>\n",
       "      <td>0</td>\n",
       "      <td>136.453866</td>\n",
       "      <td>-2.123747</td>\n",
       "      <td>-191.272208</td>\n",
       "      <td>234.966435</td>\n",
       "      <td>0.000000</td>\n",
       "      <td>0.0</td>\n",
       "      <td>1.0</td>\n",
       "    </tr>\n",
       "    <tr>\n",
       "      <th>4</th>\n",
       "      <td>0</td>\n",
       "      <td>-3</td>\n",
       "      <td>1</td>\n",
       "      <td>3</td>\n",
       "      <td>3</td>\n",
       "      <td>0</td>\n",
       "      <td>502</td>\n",
       "      <td>-11.967945</td>\n",
       "      <td>-0.006001</td>\n",
       "      <td>-44.392784</td>\n",
       "      <td>45.977723</td>\n",
       "      <td>0.000000</td>\n",
       "      <td>0.0</td>\n",
       "      <td>-1.0</td>\n",
       "    </tr>\n",
       "    <tr>\n",
       "      <th>5</th>\n",
       "      <td>0</td>\n",
       "      <td>23</td>\n",
       "      <td>2</td>\n",
       "      <td>1</td>\n",
       "      <td>2</td>\n",
       "      <td>0</td>\n",
       "      <td>0</td>\n",
       "      <td>-16.154534</td>\n",
       "      <td>-14.227033</td>\n",
       "      <td>-95.745951</td>\n",
       "      <td>134.889632</td>\n",
       "      <td>92.544844</td>\n",
       "      <td>0.0</td>\n",
       "      <td>0.0</td>\n",
       "    </tr>\n",
       "    <tr>\n",
       "      <th>6</th>\n",
       "      <td>0</td>\n",
       "      <td>1</td>\n",
       "      <td>1</td>\n",
       "      <td>6</td>\n",
       "      <td>6</td>\n",
       "      <td>503</td>\n",
       "      <td>0</td>\n",
       "      <td>-30.078834</td>\n",
       "      <td>29.365216</td>\n",
       "      <td>-71.901702</td>\n",
       "      <td>83.288096</td>\n",
       "      <td>0.000000</td>\n",
       "      <td>0.0</td>\n",
       "      <td>1.0</td>\n",
       "    </tr>\n",
       "    <tr>\n",
       "      <th>7</th>\n",
       "      <td>0</td>\n",
       "      <td>-1</td>\n",
       "      <td>1</td>\n",
       "      <td>6</td>\n",
       "      <td>6</td>\n",
       "      <td>0</td>\n",
       "      <td>503</td>\n",
       "      <td>13.924300</td>\n",
       "      <td>-43.592249</td>\n",
       "      <td>-23.844249</td>\n",
       "      <td>51.601536</td>\n",
       "      <td>0.000000</td>\n",
       "      <td>0.0</td>\n",
       "      <td>-1.0</td>\n",
       "    </tr>\n",
       "    <tr>\n",
       "      <th>8</th>\n",
       "      <td>0</td>\n",
       "      <td>23</td>\n",
       "      <td>2</td>\n",
       "      <td>1</td>\n",
       "      <td>2</td>\n",
       "      <td>0</td>\n",
       "      <td>0</td>\n",
       "      <td>-108.331387</td>\n",
       "      <td>16.356781</td>\n",
       "      <td>-1791.619362</td>\n",
       "      <td>1797.252414</td>\n",
       "      <td>90.625964</td>\n",
       "      <td>0.0</td>\n",
       "      <td>0.0</td>\n",
       "    </tr>\n",
       "    <tr>\n",
       "      <th>9</th>\n",
       "      <td>0</td>\n",
       "      <td>1</td>\n",
       "      <td>1</td>\n",
       "      <td>9</td>\n",
       "      <td>9</td>\n",
       "      <td>504</td>\n",
       "      <td>0</td>\n",
       "      <td>-95.969496</td>\n",
       "      <td>12.161198</td>\n",
       "      <td>-1764.549424</td>\n",
       "      <td>1767.199114</td>\n",
       "      <td>0.000000</td>\n",
       "      <td>0.0</td>\n",
       "      <td>-1.0</td>\n",
       "    </tr>\n",
       "    <tr>\n",
       "      <th>10</th>\n",
       "      <td>0</td>\n",
       "      <td>-1</td>\n",
       "      <td>1</td>\n",
       "      <td>9</td>\n",
       "      <td>9</td>\n",
       "      <td>0</td>\n",
       "      <td>504</td>\n",
       "      <td>-12.361891</td>\n",
       "      <td>4.195583</td>\n",
       "      <td>-27.069939</td>\n",
       "      <td>30.053300</td>\n",
       "      <td>0.000000</td>\n",
       "      <td>0.0</td>\n",
       "      <td>1.0</td>\n",
       "    </tr>\n",
       "  </tbody>\n",
       "</table>\n",
       "</div>"
      ],
      "text/plain": [
       "    event  pdgid  status  mother1  mother2  color1  color2          px  \\\n",
       "0       0     -1      -1        0        0       0     501    0.000000   \n",
       "1       0      1      -1        0        0     501       0    0.000000   \n",
       "2       0     23       2        1        2       0       0  124.485921   \n",
       "3       0      3       1        3        3     502       0  136.453866   \n",
       "4       0     -3       1        3        3       0     502  -11.967945   \n",
       "5       0     23       2        1        2       0       0  -16.154534   \n",
       "6       0      1       1        6        6     503       0  -30.078834   \n",
       "7       0     -1       1        6        6       0     503   13.924300   \n",
       "8       0     23       2        1        2       0       0 -108.331387   \n",
       "9       0      1       1        9        9     504       0  -95.969496   \n",
       "10      0     -1       1        9        9       0     504  -12.361891   \n",
       "\n",
       "           py           pz       energy       mass  lifetime  spin  \n",
       "0    0.000000    45.027949    45.027949   0.000000       0.0   1.0  \n",
       "1    0.000000 -2168.058254  2168.058254   0.000000       0.0  -1.0  \n",
       "2   -2.129748  -235.664992   280.944158  88.827648       0.0   0.0  \n",
       "3   -2.123747  -191.272208   234.966435   0.000000       0.0   1.0  \n",
       "4   -0.006001   -44.392784    45.977723   0.000000       0.0  -1.0  \n",
       "5  -14.227033   -95.745951   134.889632  92.544844       0.0   0.0  \n",
       "6   29.365216   -71.901702    83.288096   0.000000       0.0   1.0  \n",
       "7  -43.592249   -23.844249    51.601536   0.000000       0.0  -1.0  \n",
       "8   16.356781 -1791.619362  1797.252414  90.625964       0.0   0.0  \n",
       "9   12.161198 -1764.549424  1767.199114   0.000000       0.0  -1.0  \n",
       "10   4.195583   -27.069939    30.053300   0.000000       0.0   1.0  "
      ]
     },
     "execution_count": 4,
     "metadata": {},
     "output_type": "execute_result"
    }
   ],
   "source": [
    "particles.query(\"event == 0\")"
   ]
  },
  {
   "cell_type": "markdown",
   "metadata": {},
   "source": [
    "There are many many weights stored for each event. Each weight corresponds to a column in the weights data frame. We are mostly interested in the weights corresponding to the FT9 reweighting, let's look at those for the first few events:"
   ]
  },
  {
   "cell_type": "code",
   "execution_count": 5,
   "metadata": {},
   "outputs": [
    {
     "data": {
      "text/html": [
       "<div>\n",
       "<style scoped>\n",
       "    .dataframe tbody tr th:only-of-type {\n",
       "        vertical-align: middle;\n",
       "    }\n",
       "\n",
       "    .dataframe tbody tr th {\n",
       "        vertical-align: top;\n",
       "    }\n",
       "\n",
       "    .dataframe thead th {\n",
       "        text-align: right;\n",
       "    }\n",
       "</style>\n",
       "<table border=\"1\" class=\"dataframe\">\n",
       "  <thead>\n",
       "    <tr style=\"text-align: right;\">\n",
       "      <th></th>\n",
       "      <th>ft9_0</th>\n",
       "      <th>ft9_1</th>\n",
       "      <th>ft9_1p5</th>\n",
       "      <th>ft9_2p5</th>\n",
       "      <th>ft9_4</th>\n",
       "      <th>ft9_5</th>\n",
       "      <th>ft9_m1</th>\n",
       "      <th>ft9_m1p5</th>\n",
       "      <th>ft9_m2p5</th>\n",
       "      <th>ft9_m4</th>\n",
       "      <th>ft9_m5</th>\n",
       "    </tr>\n",
       "  </thead>\n",
       "  <tbody>\n",
       "    <tr>\n",
       "      <th>0</th>\n",
       "      <td>0.009816</td>\n",
       "      <td>0.009819</td>\n",
       "      <td>0.009821</td>\n",
       "      <td>0.009824</td>\n",
       "      <td>0.009828</td>\n",
       "      <td>0.009832</td>\n",
       "      <td>0.009814</td>\n",
       "      <td>0.009812</td>\n",
       "      <td>0.009809</td>\n",
       "      <td>0.009805</td>\n",
       "      <td>0.009803</td>\n",
       "    </tr>\n",
       "    <tr>\n",
       "      <th>1</th>\n",
       "      <td>0.009793</td>\n",
       "      <td>0.009799</td>\n",
       "      <td>0.009803</td>\n",
       "      <td>0.009810</td>\n",
       "      <td>0.009823</td>\n",
       "      <td>0.009832</td>\n",
       "      <td>0.009787</td>\n",
       "      <td>0.009784</td>\n",
       "      <td>0.009779</td>\n",
       "      <td>0.009772</td>\n",
       "      <td>0.009768</td>\n",
       "    </tr>\n",
       "    <tr>\n",
       "      <th>2</th>\n",
       "      <td>0.009828</td>\n",
       "      <td>0.009829</td>\n",
       "      <td>0.009829</td>\n",
       "      <td>0.009830</td>\n",
       "      <td>0.009831</td>\n",
       "      <td>0.009832</td>\n",
       "      <td>0.009827</td>\n",
       "      <td>0.009827</td>\n",
       "      <td>0.009826</td>\n",
       "      <td>0.009825</td>\n",
       "      <td>0.009824</td>\n",
       "    </tr>\n",
       "    <tr>\n",
       "      <th>3</th>\n",
       "      <td>0.009831</td>\n",
       "      <td>0.009831</td>\n",
       "      <td>0.009831</td>\n",
       "      <td>0.009831</td>\n",
       "      <td>0.009831</td>\n",
       "      <td>0.009832</td>\n",
       "      <td>0.009830</td>\n",
       "      <td>0.009830</td>\n",
       "      <td>0.009830</td>\n",
       "      <td>0.009830</td>\n",
       "      <td>0.009830</td>\n",
       "    </tr>\n",
       "    <tr>\n",
       "      <th>4</th>\n",
       "      <td>0.009815</td>\n",
       "      <td>0.009818</td>\n",
       "      <td>0.009820</td>\n",
       "      <td>0.009823</td>\n",
       "      <td>0.009828</td>\n",
       "      <td>0.009832</td>\n",
       "      <td>0.009812</td>\n",
       "      <td>0.009810</td>\n",
       "      <td>0.009807</td>\n",
       "      <td>0.009802</td>\n",
       "      <td>0.009799</td>\n",
       "    </tr>\n",
       "  </tbody>\n",
       "</table>\n",
       "</div>"
      ],
      "text/plain": [
       "      ft9_0     ft9_1   ft9_1p5   ft9_2p5     ft9_4     ft9_5    ft9_m1  \\\n",
       "0  0.009816  0.009819  0.009821  0.009824  0.009828  0.009832  0.009814   \n",
       "1  0.009793  0.009799  0.009803  0.009810  0.009823  0.009832  0.009787   \n",
       "2  0.009828  0.009829  0.009829  0.009830  0.009831  0.009832  0.009827   \n",
       "3  0.009831  0.009831  0.009831  0.009831  0.009831  0.009832  0.009830   \n",
       "4  0.009815  0.009818  0.009820  0.009823  0.009828  0.009832  0.009812   \n",
       "\n",
       "   ft9_m1p5  ft9_m2p5    ft9_m4    ft9_m5  \n",
       "0  0.009812  0.009809  0.009805  0.009803  \n",
       "1  0.009784  0.009779  0.009772  0.009768  \n",
       "2  0.009827  0.009826  0.009825  0.009824  \n",
       "3  0.009830  0.009830  0.009830  0.009830  \n",
       "4  0.009810  0.009807  0.009802  0.009799  "
      ]
     },
     "execution_count": 5,
     "metadata": {},
     "output_type": "execute_result"
    }
   ],
   "source": [
    "ft9_weights = [c for c in weights.columns if \"ft9\" in c]\n",
    "weights[ft9_weights].head()"
   ]
  },
  {
   "cell_type": "markdown",
   "metadata": {},
   "source": [
    "We should get a useful observable from the particles that is sensitive to different values of FT9. The triboson mass for example. To get invariant masses, it's useful to have to particles in awkward arrays of TLorentzVector type.\n",
    "\n",
    "Let's define a function which does this for us:"
   ]
  },
  {
   "cell_type": "code",
   "execution_count": 33,
   "metadata": {},
   "outputs": [],
   "source": [
    "def count_particles(particles):\n",
    "    \"\"\"Tells you how many particles are in each event.\n",
    "    \n",
    "    Looks a bit convoluted but works fast...\n",
    "    \"\"\"\n",
    "    event = particles[\"event\"].values\n",
    "    event = np.concatenate([event, [event[-1]+1]])\n",
    "    tmp = np.where(np.diff(event) != 0)[0] + 1\n",
    "    return np.concatenate([[tmp[0]], tmp[1:] - tmp[:-1]])\n",
    "\n",
    "def get_p4_array(particles):\n",
    "    \"\"\"Create JaggedArray with four momenta of particles.\n",
    "    \"\"\"\n",
    "    p4_flat = uproot_methods.TLorentzVectorArray(particles[\"px\"],\n",
    "                                               particles[\"py\"],\n",
    "                                               particles[\"pz\"],\n",
    "                                               particles[\"energy\"])\n",
    "\n",
    "    return awkward.JaggedArray.fromcounts(count_particles(particles), p4_flat)"
   ]
  },
  {
   "cell_type": "markdown",
   "metadata": {},
   "source": [
    "Next we use it on the Z-Bosons, which we will add up for each event and get the mass:"
   ]
  },
  {
   "cell_type": "code",
   "execution_count": 34,
   "metadata": {},
   "outputs": [],
   "source": [
    "p4 = get_p4_array(particles.query(\"pdgid == 23\"))\n",
    "s_hat = (p4[:,0] + p4[:,1] + p4[:,2]).mass"
   ]
  },
  {
   "cell_type": "markdown",
   "metadata": {},
   "source": [
    "Little helper to convert the weight labels to numbers:"
   ]
  },
  {
   "cell_type": "code",
   "execution_count": 36,
   "metadata": {},
   "outputs": [],
   "source": [
    "def to_number(label):\n",
    "    return float(label.replace(\"m\", \"-\").replace(\"p\", \".\"))"
   ]
  },
  {
   "cell_type": "markdown",
   "metadata": {},
   "source": [
    "We can check out the triboson mass distribution for different values of FT9:"
   ]
  },
  {
   "cell_type": "code",
   "execution_count": 37,
   "metadata": {},
   "outputs": [
    {
     "data": {
      "image/png": "[encoded data removed]",
      "text/plain": [
       "<Figure size 432x288 with 1 Axes>"
      ]
     },
     "metadata": {
      "needs_background": "light"
     },
     "output_type": "display_data"
    }
   ],
   "source": [
    "bins = np.linspace(0, 5000, 51)\n",
    "for label in ft9_weights:\n",
    "    if \"m\" in label:\n",
    "        continue\n",
    "    plt.hist(s_hat, bins=bins, weights=weights[label], histtype=\"step\",\n",
    "             label=f\"FT9 = ±{to_number(label[4:])}\"+\" TeV${}^{-4}$\")\n",
    "plt.gca().set_yscale('log')\n",
    "plt.legend(loc=\"lower left\", ncol=2)\n",
    "plt.xlim(0, 5000)\n",
    "plt.xlabel(\"ZZZ mass [GeV]\")\n",
    "plt.show()"
   ]
  },
  {
   "cell_type": "markdown",
   "metadata": {},
   "source": [
    "A quick study which counts events above an invariant mass of 2 TeV and verifies to parabolic behavior of this yield:"
   ]
  },
  {
   "cell_type": "code",
   "execution_count": 38,
   "metadata": {},
   "outputs": [
    {
     "data": {
      "image/png": "[encoded data removed]",
      "text/plain": [
       "<Figure size 432x288 with 1 Axes>"
      ]
     },
     "metadata": {
      "needs_background": "light"
     },
     "output_type": "display_data"
    }
   ],
   "source": [
    "mass_cut = 2000.0\n",
    "\n",
    "ft9_values = np.zeros(len(ft9_weights))\n",
    "yields = np.zeros(len(ft9_weights))\n",
    "\n",
    "for i, label in enumerate(ft9_weights):\n",
    "    ft9_values[i] = to_number(label[4:])\n",
    "    yields[i] = np.sum(weights[label][s_hat > mass_cut])\n",
    "    \n",
    "p_fit = np.polyfit(ft9_values, yields, deg=2)\n",
    "\n",
    "x = np.linspace(-6, 6)\n",
    "plt.scatter(ft9_values, yields, label=\"simulation\")\n",
    "plt.plot(x, np.polyval(p_fit, x), color='r', label=\"fit\")\n",
    "plt.legend(loc=\"lower right\")\n",
    "plt.xlabel(\"FT9 [TeV${}^{-4}$]\")\n",
    "plt.show()"
   ]
  },
  {
   "cell_type": "markdown",
   "metadata": {},
   "source": [
    "We can also see how many MC events we have for each bin:"
   ]
  },
  {
   "cell_type": "code",
   "execution_count": 75,
   "metadata": {},
   "outputs": [
    {
     "data": {
      "image/png": "[encoded data removed]",
      "text/plain": [
       "<Figure size 432x288 with 1 Axes>"
      ]
     },
     "metadata": {
      "needs_background": "light"
     },
     "output_type": "display_data"
    }
   ],
   "source": [
    "bins = np.linspace(0, 5000, 51)\n",
    "plt.hist(s_hat, bins=bins, histtype=\"step\")\n",
    "plt.gca().set_yscale('log')\n",
    "plt.xlim(0, 5000)\n",
    "plt.xlabel(\"ZZZ mass [GeV]\")\n",
    "plt.ylabel(f\"generated events ({int(len(weights)/1000)}k in total)\")\n",
    "plt.title(\"36000 events\")\n",
    "plt.savefig(\"n_events_ft9.png\")"
   ]
  }
 ],
 "metadata": {
  "kernelspec": {
   "display_name": "Python 3",
   "language": "python",
   "name": "python3"
  },
  "language_info": {
   "codemirror_mode": {
    "name": "ipython",
    "version": 3
   },
   "file_extension": ".py",
   "mimetype": "text/x-python",
   "name": "python",
   "nbconvert_exporter": "python",
   "pygments_lexer": "ipython3",
   "version": "3.8.3"
  }
 },
 "nbformat": 4,
 "nbformat_minor": 2
}
