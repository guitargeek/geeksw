{
 "cells": [
  {
   "cell_type": "markdown",
   "metadata": {},
   "source": [
    "# Electron Tag and Probe Study\n",
    "\n",
    "Loading a NanoAOD dataset is very easy, you just have to know the name of the dataset. Availability of the __dasgoclient__ is required."
   ]
  },
  {
   "cell_type": "code",
   "execution_count": 2,
   "metadata": {},
   "outputs": [],
   "source": [
    "from geeksw.nanocache import load_dataset"
   ]
  },
  {
   "cell_type": "code",
   "execution_count": 3,
   "metadata": {},
   "outputs": [],
   "source": [
    "dataset = load_dataset(\"/SingleElectron/Run2017B-Nano14Dec2018-v1/NANOAOD\")"
   ]
  },
  {
   "cell_type": "markdown",
   "metadata": {},
   "source": [
    "Let's import some other things we need for the study:"
   ]
  },
  {
   "cell_type": "code",
   "execution_count": 4,
   "metadata": {},
   "outputs": [],
   "source": [
    "import numpy as np\n",
    "import matplotlib.pyplot as plt"
   ]
  },
  {
   "cell_type": "markdown",
   "metadata": {},
   "source": [
    "The way nanocache handles the datasets internally is inspired by uproot. That means it also implements the `keys()` and `allkeys()` methods to see what is in the files:"
   ]
  },
  {
   "cell_type": "code",
   "execution_count": 5,
   "metadata": {},
   "outputs": [
    {
     "data": {
      "text/plain": [
       "[b'tag;1',\n",
       " b'Events;1',\n",
       " b'LuminosityBlocks;1',\n",
       " b'Runs;1',\n",
       " b'MetaData;1',\n",
       " b'ParameterSets;1']"
      ]
     },
     "execution_count": 5,
     "metadata": {},
     "output_type": "execute_result"
    }
   ],
   "source": [
    "dataset.keys()"
   ]
  },
  {
   "cell_type": "markdown",
   "metadata": {},
   "source": [
    "We can access individual object like the event tree like items in a dictionary:"
   ]
  },
  {
   "cell_type": "code",
   "execution_count": 6,
   "metadata": {},
   "outputs": [],
   "source": [
    "events = dataset[\"Events\"]"
   ]
  },
  {
   "cell_type": "markdown",
   "metadata": {},
   "source": [
    "Again, we investigate the tree content with `keys()`. Let's restrict ourselves to the electron variables however:"
   ]
  },
  {
   "cell_type": "code",
   "execution_count": 7,
   "metadata": {},
   "outputs": [
    {
     "name": "stdout",
     "output_type": "stream",
     "text": [
      "b'nElectron'\n",
      "b'Electron_deltaEtaSC'\n",
      "b'Electron_dr03EcalRecHitSumEt'\n",
      "b'Electron_dr03HcalDepth1TowerSumEt'\n",
      "b'Electron_dr03TkSumPt'\n",
      "b'Electron_dr03TkSumPtHEEP'\n",
      "b'Electron_dxy'\n",
      "b'Electron_dxyErr'\n",
      "b'Electron_dz'\n",
      "b'Electron_dzErr'\n",
      "b'Electron_eCorr'\n",
      "b'Electron_eInvMinusPInv'\n",
      "b'Electron_energyErr'\n",
      "b'Electron_eta'\n",
      "b'Electron_hoe'\n",
      "b'Electron_ip3d'\n",
      "b'Electron_jetRelIso'\n",
      "b'Electron_mass'\n",
      "b'Electron_miniPFRelIso_all'\n",
      "b'Electron_miniPFRelIso_chg'\n",
      "b'Electron_mvaFall17V1Iso'\n",
      "b'Electron_mvaFall17V1noIso'\n",
      "b'Electron_mvaFall17V2Iso'\n",
      "b'Electron_mvaFall17V2noIso'\n",
      "b'Electron_pfRelIso03_all'\n",
      "b'Electron_pfRelIso03_chg'\n",
      "b'Electron_phi'\n",
      "b'Electron_pt'\n",
      "b'Electron_r9'\n",
      "b'Electron_sieie'\n",
      "b'Electron_sip3d'\n",
      "b'Electron_mvaTTH'\n",
      "b'Electron_charge'\n",
      "b'Electron_cutBased'\n",
      "b'Electron_cutBased_Fall17_V1'\n",
      "b'Electron_jetIdx'\n",
      "b'Electron_pdgId'\n",
      "b'Electron_photonIdx'\n",
      "b'Electron_tightCharge'\n",
      "b'Electron_vidNestedWPBitmap'\n",
      "b'Electron_convVeto'\n",
      "b'Electron_cutBased_HEEP'\n",
      "b'Electron_isPFcand'\n",
      "b'Electron_lostHits'\n",
      "b'Electron_mvaFall17V1Iso_WP80'\n",
      "b'Electron_mvaFall17V1Iso_WP90'\n",
      "b'Electron_mvaFall17V1Iso_WPL'\n",
      "b'Electron_mvaFall17V1noIso_WP80'\n",
      "b'Electron_mvaFall17V1noIso_WP90'\n",
      "b'Electron_mvaFall17V1noIso_WPL'\n",
      "b'Electron_mvaFall17V2Iso_WP80'\n",
      "b'Electron_mvaFall17V2Iso_WP90'\n",
      "b'Electron_mvaFall17V2Iso_WPL'\n",
      "b'Electron_mvaFall17V2noIso_WP80'\n",
      "b'Electron_mvaFall17V2noIso_WP90'\n",
      "b'Electron_mvaFall17V2noIso_WPL'\n",
      "b'Jet_nElectrons'\n",
      "b'Electron_cleanmask'\n"
     ]
    }
   ],
   "source": [
    "for name in events.keys():\n",
    "    if \"Electron\" in name:\n",
    "        print(name)"
   ]
  },
  {
   "cell_type": "markdown",
   "metadata": {},
   "source": [
    "This is quite some information at our fingertips! Let's load the $p_T$ of all electrons in this data run:"
   ]
  },
  {
   "cell_type": "code",
   "execution_count": 8,
   "metadata": {},
   "outputs": [
    {
     "name": "stdout",
     "output_type": "stream",
     "text": [
      "Number of events: 60537490\n",
      "Number of electrons: 67306773\n",
      "CPU times: user 2.76 s, sys: 1.32 s, total: 4.08 s\n",
      "Wall time: 4.09 s\n"
     ]
    }
   ],
   "source": [
    "%%time\n",
    "ele_pt = events.array(\"Electron_pt\")\n",
    "print(\"Number of events: \"+ str(len(ele_pt)))\n",
    "print(\"Number of electrons: \"+ str(len(ele_pt.flatten())))"
   ]
  },
  {
   "cell_type": "markdown",
   "metadata": {},
   "source": [
    "Great, we loaded the electron $p_T$ of about 10 % of all data taken in Run 2 into memory in just about 3 seconds. Of course, the branch loaded only so fast because I already used it once before. That's why it is cached on `/scratch`.\n",
    "\n",
    "If the branch would not have been already cached, it would have been fetched over the grid via xrootd, reading all ROOT files of the dataset individually and merging the arrays. This was the time measurement when it was done the first time:\n",
    "\n",
    "```\n",
    "CPU times: user 1min 23s, sys: 5.73 s, total: 1min 29s\n",
    "Wall time: 3min 53s\n",
    "```\n",
    "\n",
    "Note that the total time was lower than the wall time, which is because nanocache reads the files in multiple threads.\n",
    "\n",
    "Let's make a histogram now:"
   ]
  },
  {
   "cell_type": "code",
   "execution_count": 9,
   "metadata": {},
   "outputs": [
    {
     "data": {
      "image/png": "[encoded data removed]",
      "text/plain": [
       "<Figure size 576x432 with 1 Axes>"
      ]
     },
     "metadata": {
      "needs_background": "light"
     },
     "output_type": "display_data"
    },
    {
     "name": "stdout",
     "output_type": "stream",
     "text": [
      "CPU times: user 7.18 s, sys: 4.9 s, total: 12.1 s\n",
      "Wall time: 4.66 s\n"
     ]
    }
   ],
   "source": [
    "%%time\n",
    "bins = np.linspace(0, 200, 200)\n",
    "plt.figure(figsize=(8,6))\n",
    "plt.hist(ele_pt.flatten(), bins=bins)\n",
    "plt.xlabel(r\"$p_T$ [GeV]\")\n",
    "plt.show()"
   ]
  },
  {
   "cell_type": "markdown",
   "metadata": {},
   "source": [
    "Plotting histograms is not the fastest operation, but with only 6 seconds this is still very much interactive."
   ]
  },
  {
   "cell_type": "markdown",
   "metadata": {},
   "source": [
    "Before we can start doing some serious work, we have to load some more branches:"
   ]
  },
  {
   "cell_type": "code",
   "execution_count": 10,
   "metadata": {},
   "outputs": [],
   "source": [
    "ele_eta = events.array(\"Electron_eta\")\n",
    "ele_phi = events.array(\"Electron_phi\")\n",
    "ele_charge = events.array(\"Electron_charge\")\n",
    "ele_mass = events.array(\"Electron_mass\")\n",
    "ele_cutBased = events.array(\"Electron_cutBased\")\n",
    "ele_mvaWP = events.array(\"Electron_mvaFall17V2Iso_WP90\")"
   ]
  },
  {
   "cell_type": "markdown",
   "metadata": {},
   "source": [
    "Now it's time to import [uproot-methods](https://github.com/scikit-hep/uproot-methods), which reimplements in Python the classes wich are actually useful from ROOT and adapts them to columnar data analysis"
   ]
  },
  {
   "cell_type": "code",
   "execution_count": 11,
   "metadata": {},
   "outputs": [],
   "source": [
    "import uproot_methods"
   ]
  },
  {
   "cell_type": "markdown",
   "metadata": {},
   "source": [
    "The highlight for us there is the `TLorentVectorArray`, which implements an array of the `TLorentzVectors` we know from ROOT. We construct it from the data we loaded:"
   ]
  },
  {
   "cell_type": "code",
   "execution_count": 12,
   "metadata": {},
   "outputs": [],
   "source": [
    "electrons = uproot_methods.TLorentzVectorArray.from_ptetaphim(ele_pt,\n",
    "                                                              ele_eta,\n",
    "                                                              ele_phi,\n",
    "                                                              ele_mass)"
   ]
  },
  {
   "cell_type": "markdown",
   "metadata": {},
   "source": [
    "In fakt, the `TLorentzVectorArray` inherits from the `table` class in awkward, so we can all other columns easily:"
   ]
  },
  {
   "cell_type": "code",
   "execution_count": 13,
   "metadata": {},
   "outputs": [],
   "source": [
    "electrons[\"mvaWP\"] = ele_mvaWP\n",
    "electrons[\"charge\"] = ele_charge\n",
    "electrons[\"cutBased\"] = ele_cutBased"
   ]
  },
  {
   "cell_type": "markdown",
   "metadata": {},
   "source": [
    "We use this electrons structure to easily select the tag electrons. `cutBased == 4` means here passing the tight cut ID, which means this electron must have also been the triggering one in order to not bias the probes. In other words, one can't use whatever ID for the tag selection. Additionally, there are some $\\eta$ and $p_T$ requirements to ensure we have basically no fake tags."
   ]
  },
  {
   "cell_type": "code",
   "execution_count": 14,
   "metadata": {},
   "outputs": [
    {
     "name": "stdout",
     "output_type": "stream",
     "text": [
      "CPU times: user 13.4 s, sys: 9.56 s, total: 22.9 s\n",
      "Wall time: 23 s\n"
     ]
    }
   ],
   "source": [
    "%%time\n",
    "tag_selection = np.logical_and(electrons[\"cutBased\"] == 4,\n",
    "                               np.logical_and(electrons.pt > 30, np.abs(electrons.eta) < 2.17))\n",
    "tags = electrons[tag_selection]"
   ]
  },
  {
   "cell_type": "markdown",
   "metadata": {},
   "source": [
    "Wow that took quite some time! There is no free lunch it seems. What do we do when there it more than one tag per event? Let's take the one with the higher $p_T$. The JaggedArray implements the very handy `argmax` function for this purpose."
   ]
  },
  {
   "cell_type": "code",
   "execution_count": 15,
   "metadata": {},
   "outputs": [
    {
     "name": "stdout",
     "output_type": "stream",
     "text": [
      "CPU times: user 53.2 s, sys: 4.26 s, total: 57.4 s\n",
      "Wall time: 57.5 s\n"
     ]
    }
   ],
   "source": [
    "%%time\n",
    "tags = tags[tags.pt.argmax()]"
   ]
  },
  {
   "cell_type": "markdown",
   "metadata": {},
   "source": [
    "Up to select the probes! Let's select as much as possible so the later combinatorics operation will be as cheap as possible. First, let's discard the events which have no tags."
   ]
  },
  {
   "cell_type": "code",
   "execution_count": 16,
   "metadata": {},
   "outputs": [],
   "source": [
    "probes = electrons[tags.counts > 0]\n",
    "tags = tags[tags.counts > 0]"
   ]
  },
  {
   "cell_type": "markdown",
   "metadata": {},
   "source": [
    "Of course the probe has to be of opposite sign. This also cleans the probes of the tags."
   ]
  },
  {
   "cell_type": "code",
   "execution_count": 17,
   "metadata": {},
   "outputs": [],
   "source": [
    "probes = probes[probes[\"charge\"] != tags[\"charge\"].flatten()]"
   ]
  },
  {
   "cell_type": "markdown",
   "metadata": {},
   "source": [
    "Now, magic time! We combine the tags with the probes in all combinations per event with the `cross` function:"
   ]
  },
  {
   "cell_type": "code",
   "execution_count": 18,
   "metadata": {},
   "outputs": [
    {
     "name": "stdout",
     "output_type": "stream",
     "text": [
      "CPU times: user 2.08 s, sys: 642 ms, total: 2.72 s\n",
      "Wall time: 2.72 s\n"
     ]
    }
   ],
   "source": [
    "%%time\n",
    "pairs = tags.cross(probes)"
   ]
  },
  {
   "cell_type": "markdown",
   "metadata": {},
   "source": [
    "That was quicker than expected actually! One step that is done in egamma but I __won't do__ here is to arbitrate such that only one pair per event is choosen. This would however bias the kinematic phasespace of the tag (for example by selecting the pair with the highest $p_T$), which I don't want to do.\n",
    "\n",
    "So we are basically done here! Let's just calculate the pair masses."
   ]
  },
  {
   "cell_type": "code",
   "execution_count": 19,
   "metadata": {},
   "outputs": [
    {
     "name": "stderr",
     "output_type": "stream",
     "text": [
      "/home/llr/cms/rembser/.local/lib/python3.7/site-packages/uproot_methods/classes/TLorentzVector.py:192: RuntimeWarning: invalid value encountered in sqrt\n",
      "  return self._trymemo(\"mass\", lambda self: self.awkward.numpy.sqrt(self.mag2))\n"
     ]
    }
   ],
   "source": [
    "pair_mass = (pairs.i0 + pairs.i1).mass"
   ]
  },
  {
   "cell_type": "markdown",
   "metadata": {},
   "source": [
    "We are now at a point where we don't need the event structure anymore. Let's flatten the probes and pair masses."
   ]
  },
  {
   "cell_type": "code",
   "execution_count": 20,
   "metadata": {},
   "outputs": [],
   "source": [
    "probes = probes.flatten()\n",
    "pair_mass = pair_mass.flatten()"
   ]
  },
  {
   "cell_type": "markdown",
   "metadata": {},
   "source": [
    "We are now done with the steps which would be traditionally done in C++ with CMSSW. We are now ready to do everything in the flat structure, so we can put everything in a pandas DataFrame and study the probes like int the egamma TnP fitter tool."
   ]
  },
  {
   "cell_type": "code",
   "execution_count": 21,
   "metadata": {},
   "outputs": [],
   "source": [
    "import pandas as pd"
   ]
  },
  {
   "cell_type": "code",
   "execution_count": 22,
   "metadata": {},
   "outputs": [],
   "source": [
    "probes = pd.DataFrame(data={\n",
    "    \"pt\" : probes.pt,\n",
    "    \"eta\" : probes.eta,\n",
    "    \"phi\" : probes.phi,\n",
    "    \"mass\" : probes.mass,\n",
    "    \"charge\" : probes[\"charge\"],\n",
    "    \"mvaWP\" : probes[\"mvaWP\"],\n",
    "    \"cutBased\" : probes[\"cutBased\"],\n",
    "    \"pair_mass\" : pair_mass\n",
    "})"
   ]
  },
  {
   "cell_type": "markdown",
   "metadata": {},
   "source": [
    "Pandas users should feel right at home now!"
   ]
  },
  {
   "cell_type": "code",
   "execution_count": 23,
   "metadata": {},
   "outputs": [
    {
     "data": {
      "text/html": [
       "<div>\n",
       "<style scoped>\n",
       "    .dataframe tbody tr th:only-of-type {\n",
       "        vertical-align: middle;\n",
       "    }\n",
       "\n",
       "    .dataframe tbody tr th {\n",
       "        vertical-align: top;\n",
       "    }\n",
       "\n",
       "    .dataframe thead th {\n",
       "        text-align: right;\n",
       "    }\n",
       "</style>\n",
       "<table border=\"1\" class=\"dataframe\">\n",
       "  <thead>\n",
       "    <tr style=\"text-align: right;\">\n",
       "      <th></th>\n",
       "      <th>pt</th>\n",
       "      <th>eta</th>\n",
       "      <th>phi</th>\n",
       "      <th>mass</th>\n",
       "      <th>charge</th>\n",
       "      <th>mvaWP</th>\n",
       "      <th>cutBased</th>\n",
       "      <th>pair_mass</th>\n",
       "    </tr>\n",
       "  </thead>\n",
       "  <tbody>\n",
       "    <tr>\n",
       "      <th>0</th>\n",
       "      <td>23.889467</td>\n",
       "      <td>1.530518</td>\n",
       "      <td>-2.213867</td>\n",
       "      <td>-0.011604</td>\n",
       "      <td>-1</td>\n",
       "      <td>True</td>\n",
       "      <td>4</td>\n",
       "      <td>89.398796</td>\n",
       "    </tr>\n",
       "    <tr>\n",
       "      <th>1</th>\n",
       "      <td>36.328728</td>\n",
       "      <td>-1.412842</td>\n",
       "      <td>-2.108887</td>\n",
       "      <td>-0.022079</td>\n",
       "      <td>-1</td>\n",
       "      <td>False</td>\n",
       "      <td>2</td>\n",
       "      <td>95.481018</td>\n",
       "    </tr>\n",
       "    <tr>\n",
       "      <th>2</th>\n",
       "      <td>41.168594</td>\n",
       "      <td>-0.544067</td>\n",
       "      <td>-0.783081</td>\n",
       "      <td>0.007423</td>\n",
       "      <td>-1</td>\n",
       "      <td>True</td>\n",
       "      <td>4</td>\n",
       "      <td>91.523064</td>\n",
       "    </tr>\n",
       "    <tr>\n",
       "      <th>3</th>\n",
       "      <td>22.344339</td>\n",
       "      <td>-1.438965</td>\n",
       "      <td>0.404724</td>\n",
       "      <td>0.016418</td>\n",
       "      <td>1</td>\n",
       "      <td>True</td>\n",
       "      <td>4</td>\n",
       "      <td>91.623528</td>\n",
       "    </tr>\n",
       "    <tr>\n",
       "      <th>4</th>\n",
       "      <td>39.002842</td>\n",
       "      <td>-0.472229</td>\n",
       "      <td>-3.016113</td>\n",
       "      <td>0.004730</td>\n",
       "      <td>1</td>\n",
       "      <td>True</td>\n",
       "      <td>4</td>\n",
       "      <td>92.517242</td>\n",
       "    </tr>\n",
       "  </tbody>\n",
       "</table>\n",
       "</div>"
      ],
      "text/plain": [
       "          pt       eta       phi      mass  charge  mvaWP  cutBased  pair_mass\n",
       "0  23.889467  1.530518 -2.213867 -0.011604      -1   True         4  89.398796\n",
       "1  36.328728 -1.412842 -2.108887 -0.022079      -1  False         2  95.481018\n",
       "2  41.168594 -0.544067 -0.783081  0.007423      -1   True         4  91.523064\n",
       "3  22.344339 -1.438965  0.404724  0.016418       1   True         4  91.623528\n",
       "4  39.002842 -0.472229 -3.016113  0.004730       1   True         4  92.517242"
      ]
     },
     "execution_count": 23,
     "metadata": {},
     "output_type": "execute_result"
    }
   ],
   "source": [
    "probes.head()"
   ]
  },
  {
   "cell_type": "markdown",
   "metadata": {},
   "source": [
    "Let's finish this example by saving this table to a file. You can move on to the fitter example notebook to see how we move on to a first data driven efficiency measurement!"
   ]
  },
  {
   "cell_type": "markdown",
   "metadata": {},
   "source": [
    "Define the binning in $p_T$ and $\\eta$, as in the egamma tool."
   ]
  },
  {
   "cell_type": "code",
   "execution_count": 24,
   "metadata": {},
   "outputs": [],
   "source": [
    "eta_bins = np.array([0.0, 0.8, 1.5, 2.0, 2.5])\n",
    "pt_bins = np.array([20,35,50,100,200])"
   ]
  },
  {
   "cell_type": "markdown",
   "metadata": {},
   "source": [
    "We don't want to loose much time doing the binning, so we try to do it in an efficient way. We figure out the $\\eta$ and $p_T$ bins separately and then encode them in bin indices."
   ]
  },
  {
   "cell_type": "code",
   "execution_count": 25,
   "metadata": {},
   "outputs": [],
   "source": [
    "probes[\"eta_bin\"] = np.digitize(np.abs(probes[\"eta\"]), eta_bins)\n",
    "probes[\"pt_bin\"] = np.digitize(probes[\"pt\"], pt_bins)"
   ]
  },
  {
   "cell_type": "code",
   "execution_count": 26,
   "metadata": {},
   "outputs": [
    {
     "data": {
      "text/html": [
       "<div>\n",
       "<style scoped>\n",
       "    .dataframe tbody tr th:only-of-type {\n",
       "        vertical-align: middle;\n",
       "    }\n",
       "\n",
       "    .dataframe tbody tr th {\n",
       "        vertical-align: top;\n",
       "    }\n",
       "\n",
       "    .dataframe thead th {\n",
       "        text-align: right;\n",
       "    }\n",
       "</style>\n",
       "<table border=\"1\" class=\"dataframe\">\n",
       "  <thead>\n",
       "    <tr style=\"text-align: right;\">\n",
       "      <th></th>\n",
       "      <th>pt</th>\n",
       "      <th>eta</th>\n",
       "      <th>phi</th>\n",
       "      <th>mass</th>\n",
       "      <th>charge</th>\n",
       "      <th>mvaWP</th>\n",
       "      <th>cutBased</th>\n",
       "      <th>pair_mass</th>\n",
       "      <th>eta_bin</th>\n",
       "      <th>pt_bin</th>\n",
       "    </tr>\n",
       "  </thead>\n",
       "  <tbody>\n",
       "    <tr>\n",
       "      <th>0</th>\n",
       "      <td>23.889467</td>\n",
       "      <td>1.530518</td>\n",
       "      <td>-2.213867</td>\n",
       "      <td>-0.011604</td>\n",
       "      <td>-1</td>\n",
       "      <td>True</td>\n",
       "      <td>4</td>\n",
       "      <td>89.398796</td>\n",
       "      <td>3</td>\n",
       "      <td>1</td>\n",
       "    </tr>\n",
       "    <tr>\n",
       "      <th>1</th>\n",
       "      <td>36.328728</td>\n",
       "      <td>-1.412842</td>\n",
       "      <td>-2.108887</td>\n",
       "      <td>-0.022079</td>\n",
       "      <td>-1</td>\n",
       "      <td>False</td>\n",
       "      <td>2</td>\n",
       "      <td>95.481018</td>\n",
       "      <td>2</td>\n",
       "      <td>2</td>\n",
       "    </tr>\n",
       "    <tr>\n",
       "      <th>2</th>\n",
       "      <td>41.168594</td>\n",
       "      <td>-0.544067</td>\n",
       "      <td>-0.783081</td>\n",
       "      <td>0.007423</td>\n",
       "      <td>-1</td>\n",
       "      <td>True</td>\n",
       "      <td>4</td>\n",
       "      <td>91.523064</td>\n",
       "      <td>1</td>\n",
       "      <td>2</td>\n",
       "    </tr>\n",
       "    <tr>\n",
       "      <th>3</th>\n",
       "      <td>22.344339</td>\n",
       "      <td>-1.438965</td>\n",
       "      <td>0.404724</td>\n",
       "      <td>0.016418</td>\n",
       "      <td>1</td>\n",
       "      <td>True</td>\n",
       "      <td>4</td>\n",
       "      <td>91.623528</td>\n",
       "      <td>2</td>\n",
       "      <td>1</td>\n",
       "    </tr>\n",
       "    <tr>\n",
       "      <th>4</th>\n",
       "      <td>39.002842</td>\n",
       "      <td>-0.472229</td>\n",
       "      <td>-3.016113</td>\n",
       "      <td>0.004730</td>\n",
       "      <td>1</td>\n",
       "      <td>True</td>\n",
       "      <td>4</td>\n",
       "      <td>92.517242</td>\n",
       "      <td>1</td>\n",
       "      <td>2</td>\n",
       "    </tr>\n",
       "  </tbody>\n",
       "</table>\n",
       "</div>"
      ],
      "text/plain": [
       "          pt       eta       phi      mass  charge  mvaWP  cutBased  \\\n",
       "0  23.889467  1.530518 -2.213867 -0.011604      -1   True         4   \n",
       "1  36.328728 -1.412842 -2.108887 -0.022079      -1  False         2   \n",
       "2  41.168594 -0.544067 -0.783081  0.007423      -1   True         4   \n",
       "3  22.344339 -1.438965  0.404724  0.016418       1   True         4   \n",
       "4  39.002842 -0.472229 -3.016113  0.004730       1   True         4   \n",
       "\n",
       "   pair_mass  eta_bin  pt_bin  \n",
       "0  89.398796        3       1  \n",
       "1  95.481018        2       2  \n",
       "2  91.523064        1       2  \n",
       "3  91.623528        2       1  \n",
       "4  92.517242        1       2  "
      ]
     },
     "execution_count": 26,
     "metadata": {},
     "output_type": "execute_result"
    }
   ],
   "source": [
    "probes.head()"
   ]
  },
  {
   "cell_type": "markdown",
   "metadata": {},
   "source": [
    "Let's only select the probes with are in the range of the bins:"
   ]
  },
  {
   "cell_type": "code",
   "execution_count": 27,
   "metadata": {},
   "outputs": [],
   "source": [
    "probes = probes.query(f\"0 < eta_bin < {len(eta_bins)} and 0 < pt_bin < {len(pt_bins)}\").copy()"
   ]
  },
  {
   "cell_type": "markdown",
   "metadata": {},
   "source": [
    "Now we encode to a bin index and sort the probes by the bin to make some order:"
   ]
  },
  {
   "cell_type": "code",
   "execution_count": 28,
   "metadata": {},
   "outputs": [],
   "source": [
    "probes[\"bin\"] = probes[\"eta_bin\"] - 1 + (probes[\"pt_bin\"] - 1) * len(eta_bins)\n",
    "probes = probes.sort_values(\"bin\")"
   ]
  },
  {
   "cell_type": "markdown",
   "metadata": {},
   "source": [
    "Time to plot! We define some mass bins and a function to plot a histogram, and then plot passing and failing probes in a bin as an example."
   ]
  },
  {
   "cell_type": "code",
   "execution_count": 29,
   "metadata": {},
   "outputs": [],
   "source": [
    "mass_bins = np.linspace(60, 120, 61)"
   ]
  },
  {
   "cell_type": "code",
   "execution_count": 30,
   "metadata": {},
   "outputs": [],
   "source": [
    "from scipy.optimize import curve_fit\n",
    "import matplotlib.pyplot as plt"
   ]
  },
  {
   "cell_type": "code",
   "execution_count": 31,
   "metadata": {},
   "outputs": [],
   "source": [
    "def plot_hist(x, bins=None):\n",
    "    h, bin_edges = np.histogram(x, bins=bins)\n",
    "    h_err = np.sqrt(h)\n",
    "    bin_centers = (bin_edges[:-1] + bin_edges[1:])/2.\n",
    "\n",
    "    sigma = np.copy(h_err)\n",
    "    sigma[sigma == 0] = 1 # placeholder for the uncertainty on zero counts\n",
    "    popt, pcov = curve_fit(fit_func, bin_centers, h, sigma=sigma, p0=p0)\n",
    "\n",
    "    plt.errorbar(bin_centers, h, yerr=h_err, color='k', fmt='o')\n",
    "    plt.plot(bin_centers, fit_func(bin_centers, *popt), color='r')"
   ]
  },
  {
   "cell_type": "markdown",
   "metadata": {},
   "source": [
    "Let's not bother about the fitting funciton too much in this example. An exponential for the background plus a Gaussian for the signal should be enough for now (highly inadequate by the way)."
   ]
  },
  {
   "cell_type": "code",
   "execution_count": 32,
   "metadata": {},
   "outputs": [],
   "source": [
    "def fit_func(x, a, b, c, mu, sig):\n",
    "    bkg = a*np.exp(b*(x-90))\n",
    "    sig = c*np.exp(-np.power(x - mu, 2.) / (2 * np.power(sig, 2.)))\n",
    "    return bkg + sig\n",
    "\n",
    "p0 = [100.,0.01,1000., 90., 1.]"
   ]
  },
  {
   "cell_type": "markdown",
   "metadata": {},
   "source": [
    "We make the plots for the first bin:"
   ]
  },
  {
   "cell_type": "code",
   "execution_count": 33,
   "metadata": {},
   "outputs": [
    {
     "data": {
      "image/png": "[encoded data removed]",
      "text/plain": [
       "<Figure size 864x432 with 2 Axes>"
      ]
     },
     "metadata": {
      "needs_background": "light"
     },
     "output_type": "display_data"
    }
   ],
   "source": [
    "plt.figure(figsize=(12,6))\n",
    "plt.subplot(1, 2, 1)\n",
    "plt.xlabel(r\"pair mass passing [GeV]\")\n",
    "plot_hist(probes.query(\"bin == 0 and mvaWP\").pair_mass, bins=mass_bins)\n",
    "plt.subplot(1, 2, 2)\n",
    "plt.xlabel(r\"pair mass failing [GeV]\")\n",
    "plot_hist(probes.query(\"bin == 0 and not mvaWP\").pair_mass, bins=mass_bins)\n",
    "plt.show()"
   ]
  },
  {
   "cell_type": "markdown",
   "metadata": {},
   "source": [
    "However, we want to get the efficiency and uncertainty for every bin, so let's write a function to just extract this. The efficiency will be the ratio of the scales of the fitted Gaussians and the uncertainty the propagated covariances on this paramter."
   ]
  },
  {
   "cell_type": "code",
   "execution_count": 34,
   "metadata": {},
   "outputs": [],
   "source": [
    "def get_signal_amplitude(probes):\n",
    "    h, bin_edges = np.histogram(probes.pair_mass, bins=mass_bins)\n",
    "    h_err = np.sqrt(h)\n",
    "    bin_centers = (bin_edges[:-1] + bin_edges[1:])/2.\n",
    "\n",
    "    sigma = np.copy(h_err)\n",
    "    sigma[sigma == 0] = 1 # placeholder for the uncertainty on zero counts\n",
    "\n",
    "    popt, pcov = curve_fit(fit_func, bin_centers, h, sigma=sigma, p0=p0)\n",
    "    return pd.Series({\"amplitude\":popt[2], \"amplitude_uncert\":np.sqrt(pcov[2,2])})\n"
   ]
  },
  {
   "cell_type": "markdown",
   "metadata": {},
   "source": [
    "We calculate the amplitudes for passing and failing and merge the resulting data frames such that we can continue easily."
   ]
  },
  {
   "cell_type": "code",
   "execution_count": 35,
   "metadata": {},
   "outputs": [],
   "source": [
    "passing_amplitudes = probes.query(\"mvaWP\").groupby(\"bin\").apply(get_signal_amplitude)\n",
    "failing_amplitudes = probes.query(\"not mvaWP\").groupby(\"bin\").apply(get_signal_amplitude)"
   ]
  },
  {
   "cell_type": "code",
   "execution_count": 36,
   "metadata": {},
   "outputs": [],
   "source": [
    "df = passing_amplitudes.join(failing_amplitudes, lsuffix=\"_passing\", rsuffix=\"_failing\")"
   ]
  },
  {
   "cell_type": "code",
   "execution_count": 37,
   "metadata": {},
   "outputs": [
    {
     "data": {
      "text/html": [
       "<div>\n",
       "<style scoped>\n",
       "    .dataframe tbody tr th:only-of-type {\n",
       "        vertical-align: middle;\n",
       "    }\n",
       "\n",
       "    .dataframe tbody tr th {\n",
       "        vertical-align: top;\n",
       "    }\n",
       "\n",
       "    .dataframe thead th {\n",
       "        text-align: right;\n",
       "    }\n",
       "</style>\n",
       "<table border=\"1\" class=\"dataframe\">\n",
       "  <thead>\n",
       "    <tr style=\"text-align: right;\">\n",
       "      <th></th>\n",
       "      <th>amplitude_passing</th>\n",
       "      <th>amplitude_uncert_passing</th>\n",
       "      <th>amplitude_failing</th>\n",
       "      <th>amplitude_uncert_failing</th>\n",
       "    </tr>\n",
       "    <tr>\n",
       "      <th>bin</th>\n",
       "      <th></th>\n",
       "      <th></th>\n",
       "      <th></th>\n",
       "      <th></th>\n",
       "    </tr>\n",
       "  </thead>\n",
       "  <tbody>\n",
       "    <tr>\n",
       "      <th>0</th>\n",
       "      <td>31942.649052</td>\n",
       "      <td>1625.506067</td>\n",
       "      <td>4670.730377</td>\n",
       "      <td>282.462478</td>\n",
       "    </tr>\n",
       "    <tr>\n",
       "      <th>1</th>\n",
       "      <td>18432.758175</td>\n",
       "      <td>902.790886</td>\n",
       "      <td>2813.081254</td>\n",
       "      <td>154.881313</td>\n",
       "    </tr>\n",
       "    <tr>\n",
       "      <th>2</th>\n",
       "      <td>9693.339241</td>\n",
       "      <td>439.231607</td>\n",
       "      <td>1247.728899</td>\n",
       "      <td>57.889575</td>\n",
       "    </tr>\n",
       "    <tr>\n",
       "      <th>3</th>\n",
       "      <td>8969.747986</td>\n",
       "      <td>355.934866</td>\n",
       "      <td>1411.406175</td>\n",
       "      <td>58.772931</td>\n",
       "    </tr>\n",
       "    <tr>\n",
       "      <th>5</th>\n",
       "      <td>64717.326805</td>\n",
       "      <td>3277.351368</td>\n",
       "      <td>10292.840480</td>\n",
       "      <td>480.956719</td>\n",
       "    </tr>\n",
       "  </tbody>\n",
       "</table>\n",
       "</div>"
      ],
      "text/plain": [
       "     amplitude_passing  amplitude_uncert_passing  amplitude_failing  \\\n",
       "bin                                                                   \n",
       "0         31942.649052               1625.506067        4670.730377   \n",
       "1         18432.758175                902.790886        2813.081254   \n",
       "2          9693.339241                439.231607        1247.728899   \n",
       "3          8969.747986                355.934866        1411.406175   \n",
       "5         64717.326805               3277.351368       10292.840480   \n",
       "\n",
       "     amplitude_uncert_failing  \n",
       "bin                            \n",
       "0                  282.462478  \n",
       "1                  154.881313  \n",
       "2                   57.889575  \n",
       "3                   58.772931  \n",
       "5                  480.956719  "
      ]
     },
     "execution_count": 37,
     "metadata": {},
     "output_type": "execute_result"
    }
   ],
   "source": [
    "df.head()"
   ]
  },
  {
   "cell_type": "markdown",
   "metadata": {},
   "source": [
    "Looks good! Last we calculate the actual efficiency and uncertainty."
   ]
  },
  {
   "cell_type": "code",
   "execution_count": 38,
   "metadata": {},
   "outputs": [],
   "source": [
    "df = df.eval(\"efficiency = amplitude_passing / (amplitude_passing + amplitude_failing)\")\n",
    "df = df.eval(\"efficiency_uncert = sqrt(amplitude_uncert_passing**2 + amplitude_uncert_failing**2) \\\n",
    "             / (amplitude_passing + amplitude_failing)\")"
   ]
  },
  {
   "cell_type": "markdown",
   "metadata": {},
   "source": [
    "Almost there! The efficiencies are calculated, we just need to associate them to the right $p_T$ and $\\eta$ ranges and make a plot."
   ]
  },
  {
   "cell_type": "code",
   "execution_count": 39,
   "metadata": {},
   "outputs": [
    {
     "data": {
      "image/png": "[encoded data removed]",
      "text/plain": [
       "<Figure size 576x432 with 1 Axes>"
      ]
     },
     "metadata": {
      "needs_background": "light"
     },
     "output_type": "display_data"
    }
   ],
   "source": [
    "pt_bin_centers = (pt_bins[:-1] + pt_bins[1:])/2.\n",
    "\n",
    "plt.figure(figsize=(8,6))\n",
    "for i in range(len(eta_bins)-1):\n",
    "    plt.errorbar(pt_bin_centers,\n",
    "                 df[\"efficiency\"].values[i::len(eta_bins)-1],\n",
    "                 yerr=df[\"efficiency_uncert\"].values[i::len(eta_bins)-1],\n",
    "                 fmt=\"o\", label=r\"${0} < |\\eta| \\leq {1}$\".format(eta_bins[i],eta_bins[i+1])\n",
    "                )\n",
    "plt.ylabel(\"Signal efficiency\")\n",
    "plt.xlabel(r\"$p_T$ [GeV]\")\n",
    "plt.gca().set_xscale(\"log\")\n",
    "plt.legend(loc=\"lower left\")\n",
    "plt.ylim(0,1)\n",
    "plt.show()"
   ]
  },
  {
   "cell_type": "markdown",
   "metadata": {},
   "source": [
    "Well, one can see that the working point we study here was indeed supposed to be about 90 % efficient. However, the inadequate fitting function does not give good results for higher energies. Anyway this was just a proof of concept and it is left to the reader to improve the efficiency measuruement with better fits."
   ]
  }
 ],
 "metadata": {
  "kernelspec": {
   "display_name": "Python 3",
   "language": "python",
   "name": "python3"
  },
  "language_info": {
   "codemirror_mode": {
    "name": "ipython",
    "version": 3
   },
   "file_extension": ".py",
   "mimetype": "text/x-python",
   "name": "python",
   "nbconvert_exporter": "python",
   "pygments_lexer": "ipython3",
   "version": "3.7.0"
  }
 },
 "nbformat": 4,
 "nbformat_minor": 2
}
