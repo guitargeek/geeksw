{
 "cells": [
  {
   "cell_type": "markdown",
   "metadata": {},
   "source": [
    "# Fitting with automatically obtained Jacobian"
   ]
  },
  {
   "cell_type": "markdown",
   "metadata": {},
   "source": [
    "Fitting functions works in python primarily with scipy's [curve_fit](https://docs.scipy.org/doc/scipy/reference/generated/scipy.optimize.curve_fit.html), which is essentially a wrapper around several non-linear least squares minimizers. By defaut, it engages the [leastsq](https://docs.scipy.org/doc/scipy/reference/generated/scipy.optimize.leastsq.html) function, which it itself a wrapper around [minpack](http://www.netlib.org/minpack/).\n",
    "\n",
    "For the minimization, the derivative of the residuals with respect to the fitting parameters (Jacobian) has to be estimated. However, fits converge better if the Jacobian is analytically known. Of course you can derive it by hand or ask Wolfram Alpha, but it would be to have automatic differentiation in the fitting framework.\n",
    "\n",
    "Automatic computation of derivatives (autograd) is widely used in the deep learning community, and we can use the tools made for neural networks for our fitting purposes. Some libraries like [autograd](https://github.com/HIPS/autograd) focus solely on the the automatic differentiation functionality, while other solutions like [pytorch](https://github.com/pytorch/pytorch) are much larger frameworks.\n",
    "\n",
    "In geeksw, it is possible to exploit the autograd feature of pytorch (the library I am more familiar with) to easily get the Jacobian of any fitting function. A function `geeksw.fitting.utils` is provided, which takes any function that can be evaluated with both numpy arrays or pytorch tensors. Let's try it out!\n",
    "\n",
    "Start with the imports needed for random number generation, plotting and fitting."
   ]
  },
  {
   "cell_type": "code",
   "execution_count": 1,
   "metadata": {},
   "outputs": [],
   "source": [
    "import numpy as np\n",
    "import matplotlib.pyplot as plt\n",
    "from scipy.optimize import curve_fit"
   ]
  },
  {
   "cell_type": "markdown",
   "metadata": {},
   "source": [
    "We import the [wrap_jac](https://github.com/guitargeek/geeksw/blob/master/geeksw/fitting/utils.py#L4) function from geeksw. In order to build fitting functions which are both compatible with pytorch and numpy, we import a little wrapper around the two of them: [geeksw.nptorch](https://github.com/guitargeek/geeksw/blob/master/geeksw/nptorch.py). Is provies all the mathematical functions which are included in both numpy and pytorch (`sin`, `cos`, `exp`, `sqrt`, etc.) and passes the inputs to either the numpy or pytorch version depending on the input type."
   ]
  },
  {
   "cell_type": "code",
   "execution_count": 2,
   "metadata": {},
   "outputs": [],
   "source": [
    "from geeksw.fitting.utils import wrap_jac\n",
    "import geeksw.nptorch as nt"
   ]
  },
  {
   "cell_type": "markdown",
   "metadata": {},
   "source": [
    "Define the true parameters of our toy model:"
   ]
  },
  {
   "cell_type": "code",
   "execution_count": 3,
   "metadata": {},
   "outputs": [],
   "source": [
    "p = np.array([90., 5, 100])"
   ]
  },
  {
   "cell_type": "markdown",
   "metadata": {},
   "source": [
    "This is the function according to which the data is distributed. We will also use it for fitting."
   ]
  },
  {
   "cell_type": "code",
   "execution_count": 4,
   "metadata": {},
   "outputs": [],
   "source": [
    "def f(x, mu, sigma, tau):\n",
    "    sig = nt.exp(-(x - mu)**2/(2*sigma**2))\n",
    "    bkg = nt.exp(-(x - mu)/tau)\n",
    "    return sig + bkg"
   ]
  },
  {
   "cell_type": "markdown",
   "metadata": {},
   "source": [
    "Generate the data, include some Gaussian noise."
   ]
  },
  {
   "cell_type": "code",
   "execution_count": 5,
   "metadata": {},
   "outputs": [],
   "source": [
    "x = np.linspace(60, 120, 100)\n",
    "y = f(x, *p) + np.random.normal(0, 0.1, size=100)"
   ]
  },
  {
   "cell_type": "markdown",
   "metadata": {},
   "source": [
    "Starting parameters for the fit:"
   ]
  },
  {
   "cell_type": "code",
   "execution_count": 6,
   "metadata": {},
   "outputs": [],
   "source": [
    "p0 = [85., 1., 10]"
   ]
  },
  {
   "cell_type": "markdown",
   "metadata": {},
   "source": [
    "Let's try it out without the analytic Jacobian:"
   ]
  },
  {
   "cell_type": "code",
   "execution_count": 7,
   "metadata": {},
   "outputs": [
    {
     "name": "stdout",
     "output_type": "stream",
     "text": [
      "CPU times: user 4.06 ms, sys: 94 µs, total: 4.16 ms\n",
      "Wall time: 4.74 ms\n"
     ]
    }
   ],
   "source": [
    "%%time\n",
    "popt_scipy, pcov_scipy = curve_fit(f, x, y, p0=p0)"
   ]
  },
  {
   "cell_type": "markdown",
   "metadata": {},
   "source": [
    "Not with the Jacobian:"
   ]
  },
  {
   "cell_type": "code",
   "execution_count": 8,
   "metadata": {},
   "outputs": [
    {
     "name": "stdout",
     "output_type": "stream",
     "text": [
      "CPU times: user 11.7 ms, sys: 655 µs, total: 12.4 ms\n",
      "Wall time: 25 ms\n"
     ]
    }
   ],
   "source": [
    "%%time\n",
    "popt_jac, pcov_jac = curve_fit(f, x, y, p0=p0,  jac=wrap_jac(f))"
   ]
  },
  {
   "cell_type": "markdown",
   "metadata": {},
   "source": [
    "We compare the fits to the data and to the true function:"
   ]
  },
  {
   "cell_type": "code",
   "execution_count": 9,
   "metadata": {},
   "outputs": [
    {
     "data": {
      "image/png": "[encoded data removed]",
      "text/plain": [
       "<Figure size 432x288 with 1 Axes>"
      ]
     },
     "metadata": {
      "needs_background": "light"
     },
     "output_type": "display_data"
    }
   ],
   "source": [
    "plt.scatter(x, y)\n",
    "plt.plot(x, f(x, *p), label=\"true\")\n",
    "plt.plot(x, f(x, *popt_scipy), '-', label=\"curve_fit\")\n",
    "plt.plot(x, f(x, *popt_jac), '--', label=\"curve_fit with jacobian\")\n",
    "plt.legend(loc=\"upper left\")\n",
    "plt.show()"
   ]
  },
  {
   "cell_type": "markdown",
   "metadata": {},
   "source": [
    "In out easy example, both fits converged well. The Jacobian version is just a bit slower due to the overhead from pytorch and the autograd.\n",
    "\n",
    "It would be interesting to know from more complicated examples, if including the Jacobian can make the difference between convergence and non-convergence! Please let me know if you have data that you can't fit with `curve_fit` without the Jacobian, and tell me if including the Jacobian did help.\n",
    "\n",
    "The open question is of course: did including the Jacobian make actually any difference in the example above? To find out what's happening, to hack around a little bit such that everytime the minimizer calls the numpy version of the function (that is not the Jacobian), the sum of squared residuals will be appended to an array which we will inspect later."
   ]
  },
  {
   "cell_type": "code",
   "execution_count": 10,
   "metadata": {},
   "outputs": [],
   "source": [
    "sum_of_squares = []\n",
    "\n",
    "def f(x, mu, sigma, tau):\n",
    "    sig = nt.exp(-(x - mu)**2/(2*sigma**2))\n",
    "    bkg = nt.exp(-(x - mu)/tau)\n",
    "    res = sig + bkg\n",
    "    if isinstance(x, np.ndarray):\n",
    "        sum_of_squares.append(np.sum((res - y)**2))\n",
    "    return res\n",
    "\n",
    "curve_fit(f, x, y, p0=p0)\n",
    "sum_of_squares_nojac = np.array(sum_of_squares)\n",
    "\n",
    "sum_of_squares = []\n",
    "curve_fit(f, x, y, p0=p0,  jac=wrap_jac(f))\n",
    "sum_of_squares_jac = np.array(sum_of_squares)"
   ]
  },
  {
   "cell_type": "code",
   "execution_count": 11,
   "metadata": {},
   "outputs": [
    {
     "name": "stdout",
     "output_type": "stream",
     "text": [
      "Function calls without using Jacobian: 39\n",
      "Function calls with Jacobian: 12\n"
     ]
    }
   ],
   "source": [
    "print(\"Function calls without using Jacobian: \" + str(len(sum_of_squares_nojac)))\n",
    "print(\"Function calls with Jacobian: \" + str(len(sum_of_squares_jac)))"
   ]
  },
  {
   "cell_type": "markdown",
   "metadata": {},
   "source": [
    "Indeed, there was a difference and with the Jacobian, `curve_fit` needed about 3 times less calls to come to result it was happy with. Let's compare how the residues evolve:"
   ]
  },
  {
   "cell_type": "code",
   "execution_count": 12,
   "metadata": {},
   "outputs": [
    {
     "data": {
      "image/png": "[encoded data removed]",
      "text/plain": [
       "<Figure size 432x288 with 1 Axes>"
      ]
     },
     "metadata": {
      "needs_background": "light"
     },
     "output_type": "display_data"
    }
   ],
   "source": [
    "plt.plot(sum_of_squares_nojac, 'o-', label=\"estimated Jacobian\")\n",
    "plt.plot(sum_of_squares_jac, 'o-', label=\"analysic Jacobian\")\n",
    "plt.ylabel(\"sum of squared residuals\")\n",
    "plt.xlabel(\"# function call\")\n",
    "plt.legend(loc=\"upper right\")\n",
    "plt.show()"
   ]
  },
  {
   "cell_type": "markdown",
   "metadata": {},
   "source": [
    "That is about what was expected. To estimate the Jacobian, one needs one additional call per parameter, because the parameters will be slightly varied one at a time to estimate the derivatives. With the analysic Jacobian available, this is not necessary. The two extra calls in the beginning give also a little plateau to the residue curve where the Jacobian was used, which must be somehow related to the details of the algorithm in the beginning."
   ]
  }
 ],
 "metadata": {
  "kernelspec": {
   "display_name": "Python 3",
   "language": "python",
   "name": "python3"
  },
  "language_info": {
   "codemirror_mode": {
    "name": "ipython",
    "version": 3
   },
   "file_extension": ".py",
   "mimetype": "text/x-python",
   "name": "python",
   "nbconvert_exporter": "python",
   "pygments_lexer": "ipython3",
   "version": "3.7.2"
  }
 },
 "nbformat": 4,
 "nbformat_minor": 2
}
