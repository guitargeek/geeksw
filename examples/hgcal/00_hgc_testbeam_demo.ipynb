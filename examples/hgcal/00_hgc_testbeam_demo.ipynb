{
 "cells": [
  {
   "cell_type": "markdown",
   "metadata": {},
   "source": [
    "# HGC Testbeam Python Package Demo"
   ]
  },
  {
   "cell_type": "code",
   "execution_count": 1,
   "metadata": {},
   "outputs": [],
   "source": [
    "import hgc_testbeam as hgc"
   ]
  },
  {
   "cell_type": "markdown",
   "metadata": {},
   "source": [
    "The runlist will show you all good runs that are available in the (hardcoded) ntuple directory, with only the essential information:"
   ]
  },
  {
   "cell_type": "code",
   "execution_count": 2,
   "metadata": {},
   "outputs": [
    {
     "data": {
      "text/html": [
       "<div>\n",
       "<style scoped>\n",
       "    .dataframe tbody tr th:only-of-type {\n",
       "        vertical-align: middle;\n",
       "    }\n",
       "\n",
       "    .dataframe tbody tr th {\n",
       "        vertical-align: top;\n",
       "    }\n",
       "\n",
       "    .dataframe thead th {\n",
       "        text-align: right;\n",
       "    }\n",
       "</style>\n",
       "<table border=\"1\" class=\"dataframe\">\n",
       "  <thead>\n",
       "    <tr style=\"text-align: right;\">\n",
       "      <th></th>\n",
       "      <th>Run</th>\n",
       "      <th>Date</th>\n",
       "      <th>Nevents</th>\n",
       "      <th>Particle</th>\n",
       "      <th>Energy</th>\n",
       "      <th>Configuration</th>\n",
       "      <th>CaloConfiguration</th>\n",
       "    </tr>\n",
       "  </thead>\n",
       "  <tbody>\n",
       "    <tr>\n",
       "      <th>136</th>\n",
       "      <td>384</td>\n",
       "      <td>2018-10-13 10:20:00</td>\n",
       "      <td>11958</td>\n",
       "      <td>electron</td>\n",
       "      <td>250</td>\n",
       "      <td>22b</td>\n",
       "      <td>1</td>\n",
       "    </tr>\n",
       "    <tr>\n",
       "      <th>137</th>\n",
       "      <td>385</td>\n",
       "      <td>2018-10-13 10:31:00</td>\n",
       "      <td>10161</td>\n",
       "      <td>electron</td>\n",
       "      <td>250</td>\n",
       "      <td>22b</td>\n",
       "      <td>1</td>\n",
       "    </tr>\n",
       "    <tr>\n",
       "      <th>138</th>\n",
       "      <td>386</td>\n",
       "      <td>2018-10-13 10:45:00</td>\n",
       "      <td>12097</td>\n",
       "      <td>electron</td>\n",
       "      <td>250</td>\n",
       "      <td>22b</td>\n",
       "      <td>1</td>\n",
       "    </tr>\n",
       "    <tr>\n",
       "      <th>140</th>\n",
       "      <td>389</td>\n",
       "      <td>2018-10-13 11:10:00</td>\n",
       "      <td>10305</td>\n",
       "      <td>electron</td>\n",
       "      <td>250</td>\n",
       "      <td>22b</td>\n",
       "      <td>1</td>\n",
       "    </tr>\n",
       "    <tr>\n",
       "      <th>141</th>\n",
       "      <td>390</td>\n",
       "      <td>2018-10-13 11:19:00</td>\n",
       "      <td>10880</td>\n",
       "      <td>electron</td>\n",
       "      <td>250</td>\n",
       "      <td>22b</td>\n",
       "      <td>1</td>\n",
       "    </tr>\n",
       "  </tbody>\n",
       "</table>\n",
       "</div>"
      ],
      "text/plain": [
       "     Run                 Date  Nevents  Particle  Energy Configuration  \\\n",
       "136  384  2018-10-13 10:20:00    11958  electron     250           22b   \n",
       "137  385  2018-10-13 10:31:00    10161  electron     250           22b   \n",
       "138  386  2018-10-13 10:45:00    12097  electron     250           22b   \n",
       "140  389  2018-10-13 11:10:00    10305  electron     250           22b   \n",
       "141  390  2018-10-13 11:19:00    10880  electron     250           22b   \n",
       "\n",
       "     CaloConfiguration  \n",
       "136                  1  \n",
       "137                  1  \n",
       "138                  1  \n",
       "140                  1  \n",
       "141                  1  "
      ]
     },
     "execution_count": 2,
     "metadata": {},
     "output_type": "execute_result"
    }
   ],
   "source": [
    "hgc.runlist.head()"
   ]
  },
  {
   "cell_type": "markdown",
   "metadata": {},
   "source": [
    "We can use the runlist to iterate over run data. The iterator gives you both the entry in the runlist, to provide you some information, and the actual DataFrame with the HGCal rechits."
   ]
  },
  {
   "cell_type": "code",
   "execution_count": 3,
   "metadata": {},
   "outputs": [
    {
     "name": "stdout",
     "output_type": "stream",
     "text": [
      "                rechit_energy  event\n",
      "entry subentry                      \n",
      "0     0              8.845783      1\n",
      "      1              0.828113      1\n",
      "      2              1.155771      1\n",
      "      3              2.378967      1\n",
      "      4              0.452307      1\n",
      "                rechit_energy  event\n",
      "entry subentry                      \n",
      "0     0              0.547978      1\n",
      "      1              0.423450      1\n",
      "      2             50.030293      1\n",
      "      3              9.853586      1\n",
      "      4              3.947062      1\n",
      "                rechit_energy  event\n",
      "entry subentry                      \n",
      "0     0          3.161264e+00      1\n",
      "      1          9.769545e-09      1\n",
      "      2          1.399277e+00      1\n",
      "      3          2.053184e+00      1\n",
      "      4          4.632810e-05      1\n"
     ]
    }
   ],
   "source": [
    "columns = [\"rechit_energy\", \"event\"]\n",
    "\n",
    "i = 0\n",
    "for info, data in hgc.runlist.iterate(\"Energy == 50\", columns=columns):\n",
    "    print(data.head(5))\n",
    "    if i == 2:\n",
    "        break\n",
    "    i += 1"
   ]
  },
  {
   "cell_type": "markdown",
   "metadata": {},
   "source": [
    "Of course, you can also load individual runs:"
   ]
  },
  {
   "cell_type": "code",
   "execution_count": 4,
   "metadata": {},
   "outputs": [
    {
     "data": {
      "text/html": [
       "<div>\n",
       "<style scoped>\n",
       "    .dataframe tbody tr th:only-of-type {\n",
       "        vertical-align: middle;\n",
       "    }\n",
       "\n",
       "    .dataframe tbody tr th {\n",
       "        vertical-align: top;\n",
       "    }\n",
       "\n",
       "    .dataframe thead th {\n",
       "        text-align: right;\n",
       "    }\n",
       "</style>\n",
       "<table border=\"1\" class=\"dataframe\">\n",
       "  <thead>\n",
       "    <tr style=\"text-align: right;\">\n",
       "      <th></th>\n",
       "      <th></th>\n",
       "      <th>rechit_energy</th>\n",
       "      <th>rechit_layer</th>\n",
       "    </tr>\n",
       "    <tr>\n",
       "      <th>entry</th>\n",
       "      <th>subentry</th>\n",
       "      <th></th>\n",
       "      <th></th>\n",
       "    </tr>\n",
       "  </thead>\n",
       "  <tbody>\n",
       "    <tr>\n",
       "      <th rowspan=\"5\" valign=\"top\">0</th>\n",
       "      <th>0</th>\n",
       "      <td>0.870193</td>\n",
       "      <td>1</td>\n",
       "    </tr>\n",
       "    <tr>\n",
       "      <th>1</th>\n",
       "      <td>28.365047</td>\n",
       "      <td>1</td>\n",
       "    </tr>\n",
       "    <tr>\n",
       "      <th>2</th>\n",
       "      <td>1.218742</td>\n",
       "      <td>1</td>\n",
       "    </tr>\n",
       "    <tr>\n",
       "      <th>3</th>\n",
       "      <td>1.256923</td>\n",
       "      <td>1</td>\n",
       "    </tr>\n",
       "    <tr>\n",
       "      <th>4</th>\n",
       "      <td>93.409660</td>\n",
       "      <td>2</td>\n",
       "    </tr>\n",
       "  </tbody>\n",
       "</table>\n",
       "</div>"
      ],
      "text/plain": [
       "                rechit_energy  rechit_layer\n",
       "entry subentry                             \n",
       "0     0              0.870193             1\n",
       "      1             28.365047             1\n",
       "      2              1.218742             1\n",
       "      3              1.256923             1\n",
       "      4             93.409660             2"
      ]
     },
     "execution_count": 4,
     "metadata": {},
     "output_type": "execute_result"
    }
   ],
   "source": [
    "hgc.load_run(1000, columns=[\"rechit_energy\", \"rechit_layer\"]).head()"
   ]
  },
  {
   "cell_type": "markdown",
   "metadata": {},
   "source": [
    "Or just get the information from the run table."
   ]
  },
  {
   "cell_type": "code",
   "execution_count": 5,
   "metadata": {},
   "outputs": [
    {
     "data": {
      "text/html": [
       "<div>\n",
       "<style scoped>\n",
       "    .dataframe tbody tr th:only-of-type {\n",
       "        vertical-align: middle;\n",
       "    }\n",
       "\n",
       "    .dataframe tbody tr th {\n",
       "        vertical-align: top;\n",
       "    }\n",
       "\n",
       "    .dataframe thead th {\n",
       "        text-align: right;\n",
       "    }\n",
       "</style>\n",
       "<table border=\"1\" class=\"dataframe\">\n",
       "  <thead>\n",
       "    <tr style=\"text-align: right;\">\n",
       "      <th></th>\n",
       "      <th>Run</th>\n",
       "      <th>Date</th>\n",
       "      <th>Nevents</th>\n",
       "      <th>Particle</th>\n",
       "      <th>Energy</th>\n",
       "      <th>Configuration</th>\n",
       "      <th>CaloConfiguration</th>\n",
       "    </tr>\n",
       "  </thead>\n",
       "  <tbody>\n",
       "    <tr>\n",
       "      <th>573</th>\n",
       "      <td>1000</td>\n",
       "      <td>2018-10-21 06:55:00</td>\n",
       "      <td>10470</td>\n",
       "      <td>electron</td>\n",
       "      <td>120</td>\n",
       "      <td>23c</td>\n",
       "      <td>2</td>\n",
       "    </tr>\n",
       "  </tbody>\n",
       "</table>\n",
       "</div>"
      ],
      "text/plain": [
       "      Run                 Date  Nevents  Particle  Energy Configuration  \\\n",
       "573  1000  2018-10-21 06:55:00    10470  electron     120           23c   \n",
       "\n",
       "     CaloConfiguration  \n",
       "573                  2  "
      ]
     },
     "execution_count": 5,
     "metadata": {},
     "output_type": "execute_result"
    }
   ],
   "source": [
    "hgc.run_info(1000)"
   ]
  },
  {
   "cell_type": "markdown",
   "metadata": {},
   "source": [
    "It is also possible to load columns which are not found in the original tree, but _derived_ columns. These can be \n",
    "`rechit_dE`, `rechit_X0` or `rechit_Lambda`, where the values are looked up in another files and matched to the correct `rechit_layer` and run configurations. However, loading such a column increases the loading time quite a bit."
   ]
  },
  {
   "cell_type": "code",
   "execution_count": 6,
   "metadata": {},
   "outputs": [
    {
     "name": "stdout",
     "output_type": "stream",
     "text": [
      "CPU times: user 2.06 s, sys: 1.26 s, total: 3.32 s\n",
      "Wall time: 3.33 s\n"
     ]
    },
    {
     "data": {
      "text/html": [
       "<div>\n",
       "<style scoped>\n",
       "    .dataframe tbody tr th:only-of-type {\n",
       "        vertical-align: middle;\n",
       "    }\n",
       "\n",
       "    .dataframe tbody tr th {\n",
       "        vertical-align: top;\n",
       "    }\n",
       "\n",
       "    .dataframe thead th {\n",
       "        text-align: right;\n",
       "    }\n",
       "</style>\n",
       "<table border=\"1\" class=\"dataframe\">\n",
       "  <thead>\n",
       "    <tr style=\"text-align: right;\">\n",
       "      <th></th>\n",
       "      <th></th>\n",
       "      <th>rechit_energy</th>\n",
       "      <th>rechit_X0</th>\n",
       "      <th>rechit_layer</th>\n",
       "    </tr>\n",
       "    <tr>\n",
       "      <th>entry</th>\n",
       "      <th>subentry</th>\n",
       "      <th></th>\n",
       "      <th></th>\n",
       "      <th></th>\n",
       "    </tr>\n",
       "  </thead>\n",
       "  <tbody>\n",
       "    <tr>\n",
       "      <th rowspan=\"5\" valign=\"top\">0</th>\n",
       "      <th>0</th>\n",
       "      <td>8.845783</td>\n",
       "      <td>0.943</td>\n",
       "      <td>1</td>\n",
       "    </tr>\n",
       "    <tr>\n",
       "      <th>1</th>\n",
       "      <td>0.828113</td>\n",
       "      <td>0.943</td>\n",
       "      <td>1</td>\n",
       "    </tr>\n",
       "    <tr>\n",
       "      <th>2</th>\n",
       "      <td>1.155771</td>\n",
       "      <td>0.943</td>\n",
       "      <td>1</td>\n",
       "    </tr>\n",
       "    <tr>\n",
       "      <th>3</th>\n",
       "      <td>2.378967</td>\n",
       "      <td>0.943</td>\n",
       "      <td>1</td>\n",
       "    </tr>\n",
       "    <tr>\n",
       "      <th>4</th>\n",
       "      <td>0.452307</td>\n",
       "      <td>0.943</td>\n",
       "      <td>1</td>\n",
       "    </tr>\n",
       "  </tbody>\n",
       "</table>\n",
       "</div>"
      ],
      "text/plain": [
       "                rechit_energy  rechit_X0  rechit_layer\n",
       "entry subentry                                        \n",
       "0     0              8.845783      0.943             1\n",
       "      1              0.828113      0.943             1\n",
       "      2              1.155771      0.943             1\n",
       "      3              2.378967      0.943             1\n",
       "      4              0.452307      0.943             1"
      ]
     },
     "execution_count": 6,
     "metadata": {},
     "output_type": "execute_result"
    }
   ],
   "source": [
    "%%time\n",
    "hgc.load_run(384, columns=[\"rechit_energy\", \"rechit_X0\"]).head()"
   ]
  },
  {
   "cell_type": "code",
   "execution_count": 7,
   "metadata": {},
   "outputs": [
    {
     "name": "stdout",
     "output_type": "stream",
     "text": [
      "CPU times: user 1.19 s, sys: 797 ms, total: 1.99 s\n",
      "Wall time: 1.99 s\n"
     ]
    },
    {
     "data": {
      "text/html": [
       "<div>\n",
       "<style scoped>\n",
       "    .dataframe tbody tr th:only-of-type {\n",
       "        vertical-align: middle;\n",
       "    }\n",
       "\n",
       "    .dataframe tbody tr th {\n",
       "        vertical-align: top;\n",
       "    }\n",
       "\n",
       "    .dataframe thead th {\n",
       "        text-align: right;\n",
       "    }\n",
       "</style>\n",
       "<table border=\"1\" class=\"dataframe\">\n",
       "  <thead>\n",
       "    <tr style=\"text-align: right;\">\n",
       "      <th></th>\n",
       "      <th></th>\n",
       "      <th>rechit_energy</th>\n",
       "      <th>rechit_layer</th>\n",
       "    </tr>\n",
       "    <tr>\n",
       "      <th>entry</th>\n",
       "      <th>subentry</th>\n",
       "      <th></th>\n",
       "      <th></th>\n",
       "    </tr>\n",
       "  </thead>\n",
       "  <tbody>\n",
       "    <tr>\n",
       "      <th rowspan=\"5\" valign=\"top\">0</th>\n",
       "      <th>0</th>\n",
       "      <td>8.845783</td>\n",
       "      <td>1</td>\n",
       "    </tr>\n",
       "    <tr>\n",
       "      <th>1</th>\n",
       "      <td>0.828113</td>\n",
       "      <td>1</td>\n",
       "    </tr>\n",
       "    <tr>\n",
       "      <th>2</th>\n",
       "      <td>1.155771</td>\n",
       "      <td>1</td>\n",
       "    </tr>\n",
       "    <tr>\n",
       "      <th>3</th>\n",
       "      <td>2.378967</td>\n",
       "      <td>1</td>\n",
       "    </tr>\n",
       "    <tr>\n",
       "      <th>4</th>\n",
       "      <td>0.452307</td>\n",
       "      <td>1</td>\n",
       "    </tr>\n",
       "  </tbody>\n",
       "</table>\n",
       "</div>"
      ],
      "text/plain": [
       "                rechit_energy  rechit_layer\n",
       "entry subentry                             \n",
       "0     0              8.845783             1\n",
       "      1              0.828113             1\n",
       "      2              1.155771             1\n",
       "      3              2.378967             1\n",
       "      4              0.452307             1"
      ]
     },
     "execution_count": 7,
     "metadata": {},
     "output_type": "execute_result"
    }
   ],
   "source": [
    "%%time\n",
    "hgc.load_run(384, columns=[\"rechit_energy\", \"rechit_layer\"]).head()"
   ]
  }
 ],
 "metadata": {
  "kernelspec": {
   "display_name": "Python 2",
   "language": "python",
   "name": "python2"
  },
  "language_info": {
   "codemirror_mode": {
    "name": "ipython",
    "version": 3
   },
   "file_extension": ".py",
   "mimetype": "text/x-python",
   "name": "python",
   "nbconvert_exporter": "python",
   "pygments_lexer": "ipython3",
   "version": "3.7.0"
  }
 },
 "nbformat": 4,
 "nbformat_minor": 2
}
