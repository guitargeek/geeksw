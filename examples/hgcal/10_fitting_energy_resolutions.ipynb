{
 "cells": [
  {
   "cell_type": "markdown",
   "metadata": {},
   "source": [
    "# Fitting energy resolutions"
   ]
  },
  {
   "cell_type": "code",
   "execution_count": 1,
   "metadata": {},
   "outputs": [],
   "source": [
    "import geeksw.hgcal.testbeam as hgc\n",
    "import numpy as np\n",
    "import matplotlib.pyplot as plt\n",
    "from geeksw.fitting.functions import crystalball, gausexp, gaus\n",
    "from geeksw.utils import effrms\n",
    "from scipy.optimize import curve_fit"
   ]
  },
  {
   "cell_type": "markdown",
   "metadata": {},
   "source": [
    "Let's select a high energy electron run from the first configuration, where the reconstructed energy is not so precise as with configuration 2. This way, the problematic of the left tail gets  clear."
   ]
  },
  {
   "cell_type": "code",
   "execution_count": 2,
   "metadata": {},
   "outputs": [
    {
     "data": {
      "text/html": [
       "<div>\n",
       "<style scoped>\n",
       "    .dataframe tbody tr th:only-of-type {\n",
       "        vertical-align: middle;\n",
       "    }\n",
       "\n",
       "    .dataframe tbody tr th {\n",
       "        vertical-align: top;\n",
       "    }\n",
       "\n",
       "    .dataframe thead th {\n",
       "        text-align: right;\n",
       "    }\n",
       "</style>\n",
       "<table border=\"1\" class=\"dataframe\">\n",
       "  <thead>\n",
       "    <tr style=\"text-align: right;\">\n",
       "      <th></th>\n",
       "      <th>Run</th>\n",
       "      <th>Date</th>\n",
       "      <th>Nevents</th>\n",
       "      <th>Particle</th>\n",
       "      <th>Energy</th>\n",
       "      <th>Configuration</th>\n",
       "      <th>CaloConfiguration</th>\n",
       "    </tr>\n",
       "  </thead>\n",
       "  <tbody>\n",
       "    <tr>\n",
       "      <th>152</th>\n",
       "      <td>405</td>\n",
       "      <td>2018-10-13 15:07:00</td>\n",
       "      <td>10300</td>\n",
       "      <td>electron</td>\n",
       "      <td>300</td>\n",
       "      <td>22b</td>\n",
       "      <td>1</td>\n",
       "    </tr>\n",
       "  </tbody>\n",
       "</table>\n",
       "</div>"
      ],
      "text/plain": [
       "     Run                 Date  Nevents  Particle  Energy Configuration  \\\n",
       "152  405  2018-10-13 15:07:00    10300  electron     300           22b   \n",
       "\n",
       "     CaloConfiguration  \n",
       "152                  1  "
      ]
     },
     "execution_count": 2,
     "metadata": {},
     "output_type": "execute_result"
    }
   ],
   "source": [
    "hgc.runlist.query(\"Particle == 'electron' and CaloConfiguration == 1 and Energy == 300\").head(1)"
   ]
  },
  {
   "cell_type": "code",
   "execution_count": 3,
   "metadata": {},
   "outputs": [],
   "source": [
    "df = hgc.load_run(405, columns=[\"event\", \"rechit_energy\", \"rechit_layer\"])"
   ]
  },
  {
   "cell_type": "markdown",
   "metadata": {},
   "source": [
    "We calculate the energy sums in the electromagnetic calorimeter part:"
   ]
  },
  {
   "cell_type": "code",
   "execution_count": 128,
   "metadata": {},
   "outputs": [],
   "source": [
    "energy_sums = df.query(\"rechit_layer <= 28\").groupby(\"event\")[\"rechit_energy\"].sum().values"
   ]
  },
  {
   "cell_type": "markdown",
   "metadata": {},
   "source": [
    "Little helper function to convert bin edges to bin centers:"
   ]
  },
  {
   "cell_type": "code",
   "execution_count": 129,
   "metadata": {},
   "outputs": [],
   "source": [
    "def edges2centers(bin_edges):\n",
    "    return (bin_edges[1:] + bin_edges[:-1])/2."
   ]
  },
  {
   "cell_type": "markdown",
   "metadata": {},
   "source": [
    "We turn the energy sums data into a hitogram, also calculating Poissonian errors ($\\sqrt{n}$ for each bin):"
   ]
  },
  {
   "cell_type": "code",
   "execution_count": 130,
   "metadata": {},
   "outputs": [],
   "source": [
    "bins = np.linspace(20000, 29000, 50)\n",
    "counts, bin_edges = np.histogram(energy_sums, bins=bins)\n",
    "counts = np.array(counts, dtype=np.float)\n",
    "counts_uncert = np.sqrt(counts)\n",
    "bin_centers = edges2centers(bin_edges)"
   ]
  },
  {
   "cell_type": "markdown",
   "metadata": {},
   "source": [
    "The energy values and counts should be normalized, then the fits converge easier even without apporpriate starting parameters:"
   ]
  },
  {
   "cell_type": "code",
   "execution_count": 131,
   "metadata": {},
   "outputs": [],
   "source": [
    "scale = np.median(energy_sums)\n",
    "bin_edges = bin_edges / scale\n",
    "bin_centers = bin_centers / scale\n",
    "counts_uncert = counts_uncert / np.sum(counts)\n",
    "counts = counts / np.sum(counts)"
   ]
  },
  {
   "cell_type": "markdown",
   "metadata": {},
   "source": [
    "We define a little function to fit, plot, and return the parameters found by the fit. You can find the description of the fitting functions here: https://github.com/guitargeek/geeksw/blob/master/geeksw/fitting/functions.py"
   ]
  },
  {
   "cell_type": "code",
   "execution_count": 133,
   "metadata": {},
   "outputs": [],
   "source": [
    "def plot_energy_sum_fit(f, **kwargs):\n",
    "    popt, pcov = curve_fit(f, bin_centers, counts)\n",
    "    plt.plot(bin_centers, f(bin_centers, *popt), **kwargs)\n",
    "    return popt"
   ]
  },
  {
   "cell_type": "markdown",
   "metadata": {},
   "source": [
    "Now, we fit the data with three different distributions. A simple Gaussian, a Gaussian with tail following a power law on the left (crystal ball), and a Gaussian with exponential left tail."
   ]
  },
  {
   "cell_type": "code",
   "execution_count": 134,
   "metadata": {},
   "outputs": [
    {
     "data": {
      "image/png": "[encoded data removed]",
      "text/plain": [
       "<Figure size 432x288 with 1 Axes>"
      ]
     },
     "metadata": {
      "needs_background": "light"
     },
     "output_type": "display_data"
    }
   ],
   "source": [
    "plt.errorbar(bin_centers, counts, yerr=counts_uncert, fmt='o', markersize=4, color='k')\n",
    "popt_gaus = plot_energy_sum_fit(gaus, label=\"Gaussian\")\n",
    "popt_crystalball = plot_energy_sum_fit(crystalball, label=\"Crystal ball\")\n",
    "popt_gausexp = plot_energy_sum_fit(gausexp, label=\"Gaussian with exponential tail\")\n",
    "plt.legend(loc=\"upper left\")\n",
    "plt.show()"
   ]
  },
  {
   "cell_type": "markdown",
   "metadata": {},
   "source": [
    "Whe extract the relative resolution estimate from the relevant parameters of each fitting function, and also compare this to the resolution estimate we obtain from the effective RMS of the energy sums.\n",
    "\n",
    "In case of the effective RMS, the peak position as a proxy for $E$ is just the position of the bin with the most counts, as an estimate for the mode of the distribution."
   ]
  },
  {
   "cell_type": "code",
   "execution_count": 135,
   "metadata": {},
   "outputs": [
    {
     "name": "stdout",
     "output_type": "stream",
     "text": [
      "Resolution with Gaussian fit: 0.043 %\n",
      "Resolution with Crystal ball fit: 0.024 %\n",
      "Resolution with Gaussian fit: 0.018 %\n",
      "Resolution with effective RMS: 0.048 %\n"
     ]
    }
   ],
   "source": [
    "res_gaus = popt_gaus[2]/popt_gaus[1]\n",
    "res_crystalball = popt_crystalball[3]/popt_crystalball[2]\n",
    "res_gausexp = popt_gausexp[2]/popt_gausexp[1]\n",
    "res_effrms = effrms(energy_sums)/scale*bin_centers[np.argmax(counts)]\n",
    "\n",
    "print(\"Resolution with Gaussian fit: {0:.3f} %\".format(res_gaus))\n",
    "print(\"Resolution with Crystal ball fit: {0:.3f} %\".format(res_crystalball))\n",
    "print(\"Resolution with Gaussian fit: {0:.3f} %\".format(res_gausexp))\n",
    "print(\"Resolution with effective RMS: {0:.3f} %\".format(res_effrms))"
   ]
  },
  {
   "cell_type": "markdown",
   "metadata": {},
   "source": [
    "These are some quite different numbers! What do you think? Which of these values is the most appropriate when you want to quote a resoltion for the calorimeter?"
   ]
  }
 ],
 "metadata": {
  "kernelspec": {
   "display_name": "Python 3",
   "language": "python",
   "name": "python3"
  },
  "language_info": {
   "codemirror_mode": {
    "name": "ipython",
    "version": 3
   },
   "file_extension": ".py",
   "mimetype": "text/x-python",
   "name": "python",
   "nbconvert_exporter": "python",
   "pygments_lexer": "ipython3",
   "version": "3.7.0"
  }
 },
 "nbformat": 4,
 "nbformat_minor": 2
}
