{
 "cells": [
  {
   "cell_type": "markdown",
   "metadata": {},
   "source": [
    "# MCPs Timing correlation and correlation to HGC\n",
    "\n",
    "First, we do the necessary imports. [Pandas](https://pandas.pydata.org/) for managing data, [NumPy](http://www.numpy.org/) for numerical operations, and [matplotlib](https://matplotlib.org/) to show plots:"
   ]
  },
  {
   "cell_type": "code",
   "execution_count": 1,
   "metadata": {},
   "outputs": [],
   "source": [
    "import pandas as pd\n",
    "import numpy as np\n",
    "import matplotlib.pyplot as plt\n",
    "from matplotlib.colors import LogNorm"
   ]
  },
  {
   "cell_type": "markdown",
   "metadata": {},
   "source": [
    "Of course we don't want to miss the [HGC testbeam tools](https://llrgit.in2p3.fr/rembser/hgc-testbeam-mini-stage/tree/master/python-package):"
   ]
  },
  {
   "cell_type": "code",
   "execution_count": 2,
   "metadata": {},
   "outputs": [],
   "source": [
    "import hgc_testbeam as hgc"
   ]
  },
  {
   "cell_type": "code",
   "execution_count": 3,
   "metadata": {},
   "outputs": [],
   "source": [
    "df_hgc = hgc.load_run(1042)\n",
    "df_hgc.event = df_hgc.event.astype(np.uint64)\n",
    "df_hgc.dtypes\n",
    "df_hgc = df_hgc.set_index([\"event\", \"rechit_detid\"])\n",
    "df_mcp = hgc.load_run(1042, key=\"MCPntupler/MCP\").set_index(\"event\")\n",
    "df = df_hgc.join(df_mcp, how=\"inner\", lsuffix=\"_hgc\", rsuffix=\"_dwc\")"
   ]
  },
  {
   "cell_type": "code",
   "execution_count": 4,
   "metadata": {},
   "outputs": [
    {
     "data": {
      "text/plain": [
       "Index(['run', 'valid_TS_MCP1', 'valid_TS_MCP2', 'noise_MCP1', 'noise_MCP2',\n",
       "       'TSpeak_MCP1', 'TSpeak_MCP2', 'amp_MCP1', 'amp_MCP2', 'ampFit_MCP1',\n",
       "       'ampFit_MCP2', 'TSfitPeak_MCP1', 'TSfitPeak_MCP2', 'TScf_MCP1',\n",
       "       'TScf_MCP2', 'charge5nsS_MCP1', 'charge5nsS_MCP2', 'charge5nsB_MCP1',\n",
       "       'charge5nsB_MCP2', 'TS_toClock_FE_MCP1', 'TS_toClock_FE_MCP2',\n",
       "       'meanClockFE', 'rmsClockFE'],\n",
       "      dtype='object')"
      ]
     },
     "execution_count": 4,
     "metadata": {},
     "output_type": "execute_result"
    }
   ],
   "source": [
    "df_mcp.columns"
   ]
  },
  {
   "cell_type": "code",
   "execution_count": 5,
   "metadata": {},
   "outputs": [],
   "source": [
    "df_sel_1 = df.query(\"valid_TS_MCP1*valid_TS_MCP2 == 1\")"
   ]
  },
  {
   "cell_type": "code",
   "execution_count": 6,
   "metadata": {},
   "outputs": [
    {
     "data": {
      "image/png": "[encoded data removed]",
      "text/plain": [
       "<Figure size 432x288 with 2 Axes>"
      ]
     },
     "metadata": {
      "needs_background": "light"
     },
     "output_type": "display_data"
    }
   ],
   "source": [
    "bins = np.linspace(0, 26, 50)\n",
    "plt.hist2d(df_sel_1.TS_toClock_FE_MCP1, df_sel_1.TS_toClock_FE_MCP2, bins=bins, norm=LogNorm())\n",
    "plt.colorbar()\n",
    "plt.xlabel(\"impactX_HGCal_layer_2\")\n",
    "plt.ylabel(\"impactY_HGCal_layer_2\")\n",
    "plt.show()"
   ]
  }
 ],
 "metadata": {
  "kernelspec": {
   "display_name": "Python 3",
   "language": "python",
   "name": "python3"
  },
  "language_info": {
   "codemirror_mode": {
    "name": "ipython",
    "version": 3
   },
   "file_extension": ".py",
   "mimetype": "text/x-python",
   "name": "python",
   "nbconvert_exporter": "python",
   "pygments_lexer": "ipython3",
   "version": "3.7.0"
  }
 },
 "nbformat": 4,
 "nbformat_minor": 2
}
