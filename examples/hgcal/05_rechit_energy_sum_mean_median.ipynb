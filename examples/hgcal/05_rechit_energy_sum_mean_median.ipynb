{
 "cells": [
  {
   "cell_type": "markdown",
   "metadata": {},
   "source": [
    "# Calculating Mean and Median of Rechit energy sums per Run\n",
    "\n",
    "First, we import the hgc_testbeam package as always:"
   ]
  },
  {
   "cell_type": "code",
   "execution_count": 1,
   "metadata": {},
   "outputs": [],
   "source": [
    "import hgc_testbeam as hgc\n"
   ]
  },
  {
   "cell_type": "markdown",
   "metadata": {},
   "source": [
    "Going over all runs can be very slow. We want to speed this up as much as possible by the means of multithreading. Multithreading is very simple in python with the help of a [ThreadPoolExecutor](https://docs.python.org/3/library/concurrent.futures.html)."
   ]
  },
  {
   "cell_type": "code",
   "execution_count": 2,
   "metadata": {},
   "outputs": [],
   "source": [
    "from concurrent.futures import ThreadPoolExecutor\n",
    "executor = ThreadPoolExecutor(max_workers=32)"
   ]
  },
  {
   "cell_type": "code",
   "execution_count": 3,
   "metadata": {},
   "outputs": [],
   "source": [
    "runlist = hgc.runlist.set_index(\"Run\")"
   ]
  },
  {
   "cell_type": "code",
   "execution_count": 4,
   "metadata": {},
   "outputs": [],
   "source": [
    "columns = [\"event\", \"rechit_energy\"]"
   ]
  },
  {
   "cell_type": "code",
   "execution_count": 5,
   "metadata": {},
   "outputs": [],
   "source": [
    "def get_nevents_and_energy_mean_median(run):\n",
    "    df = hgc.load_run(run, columns=columns)\n",
    "    nevents = int(df.event.nunique())\n",
    "    energy_sums = df.groupby(\"event\").rechit_energy.sum()\n",
    "    return nevents, energy_sums.mean(), energy_sums.median()"
   ]
  },
  {
   "cell_type": "code",
   "execution_count": 6,
   "metadata": {},
   "outputs": [
    {
     "name": "stdout",
     "output_type": "stream",
     "text": [
      "384 385 386 389 390 391 392 393 397 398 399 404 405 406 407 408 411 412 414 415 416 418 419 420 421 422 423 424 425 426 429 430 431 432 433 435 436 437 439 441 442 443 444 447 450 451 452 453 455 456 457 458 459 460 461 462 463 464 465 466 467 468 469 470 471 472 473 474 475 477 479 480 481 483 484 486 487 489 490 491 493 494 495 496 501 502 503 504 505 506 507 508 509 512 513 515 516 517 518 519 520 521 522 523 524 525 527 529 530 531 532 533 534 535 536 537 538 539 541 543 544 545 546 547 548 549 550 551 552 553 554 555 557 558 559 560 561 562 563 565 566 570 572 574 577 578 579 581 582 584 586 587 588 589 590 591 592 593 594 595 596 597 599 601 603 604 606 607 608 609 610 611 613 614 616 617 618 619 620 621 622 635 636 637 639 640 641 642 643 644 645 646 647 648 649 650 652 653 654 655 656 657 659 661 663 664 665 666 667 671 672 673 674 675 676 679 680 681 682 683 685 687 688 689 690 691 692 693 694 696 697 698 699 700 701 702 704 705 708 709 710 712 713 714 715 717 718 719 721 722 807 808 809 811 812 814 815 816 817 818 819 820 821 824 825 826 828 829 830 831 832 833 834 835 836 837 838 840 841 842 843 844 845 847 848 849 907 912 916 918 919 920 921 922 923 924 925 926 927 930 932 933 934 935 936 939 940 941 942 943 944 945 946 947 948 949 950 952 953 955 956 957 958 960 961 963 964 965 967 968 969 970 971 972 973 974 975 976 977 978 979 980 981 984 985 987 988 990 991 992 993 994 996 997 998 999 1000 1001 1002 1005 1006 1007 1008 1010 1011 1012 1014 1015 1016 1017 1018 1021 1023 1029 1031 1033 1036 1037 1038 1040 1042 1043 1045 1047 1049 1051 1052 1053 1054 1055 1056 1080 1081 1082 1084 1085 1086 1087 1089 1091 1092 1093 1094 1098 1099 1100 1101 1102 1104 1105 1106 1115 1116 1117 1118 1119 1120 1121 1122 1123 1124 1125 1126 1127 1128 1129 1131 1132 1134 1135 1136 1139 1141 1144 1145 1146 1147 1149 1151 1153 1154 1155 1156 1157 1159 1160 1163 1164 1165 1166 1167 \n",
      "CPU times: user 3.31 s, sys: 1.21 s, total: 4.53 s\n",
      "Wall time: 7.19 s\n"
     ]
    }
   ],
   "source": [
    "%%time\n",
    "for run in runlist.index:\n",
    "    print(run, end =\" \")\n",
    "    runlist.loc[run, \"future\"] = executor.submit(get_nevents_and_energy_mean_median, run)\n",
    "print(\"\")"
   ]
  },
  {
   "cell_type": "code",
   "execution_count": 7,
   "metadata": {},
   "outputs": [
    {
     "name": "stdout",
     "output_type": "stream",
     "text": [
      "384 385 386 389 390 391 392 393 397 398 399 404 405 406 407 408 411 412 414 415 416 418 419 420 421 422 423 424 425 426 429 430 431 432 433 435 436 437 439 441 442 443 444 447 450 451 452 453 455 456 457 458 459 460 461 462 463 464 465 466 467 468 469 470 471 472 473 474 475 477 479 480 481 483 484 486 487 489 490 491 493 494 495 496 501 502 503 504 505 506 507 508 509 512 513 515 516 517 518 519 520 521 522 523 524 525 527 529 530 531 532 533 534 535 536 537 538 539 541 543 544 545 546 547 548 549 550 551 552 553 554 555 557 558 559 560 561 562 563 565 566 570 572 574 577 578 579 581 582 584 586 587 588 589 590 591 592 593 594 595 596 597 599 601 603 604 606 607 608 609 610 611 613 614 616 617 618 619 620 621 622 635 636 637 639 640 641 642 643 644 645 646 647 648 649 650 652 653 654 655 656 657 659 661 663 664 665 666 667 671 672 673 674 675 676 679 680 681 682 683 685 687 688 689 690 691 692 693 694 696 697 698 699 700 701 702 704 705 708 709 710 712 713 714 715 717 718 719 721 722 807 808 809 811 812 814 815 816 817 818 819 820 821 824 825 826 828 829 830 831 832 833 834 835 836 837 838 840 841 842 843 844 845 847 848 849 907 912 916 918 919 920 921 922 923 924 925 926 927 930 932 933 934 935 936 939 940 941 942 943 944 945 946 947 948 949 950 952 953 955 956 957 958 960 961 963 964 965 967 968 969 970 971 972 973 974 975 976 977 978 979 980 981 984 985 987 988 990 991 992 993 994 996 997 998 999 1000 1001 1002 1005 1006 1007 1008 1010 1011 1012 1014 1015 1016 1017 1018 1021 1023 1029 1031 1033 1036 1037 1038 1040 1042 1043 1045 1047 1049 1051 1052 1053 1054 1055 1056 1080 1081 1082 1084 1085 1086 1087 1089 1091 1092 1093 1094 1098 1099 1100 1101 1102 1104 1105 1106 1115 1116 1117 1118 1119 1120 1121 1122 1123 1124 1125 1126 1127 1128 1129 1131 1132 1134 1135 1136 1139 1141 1144 1145 1146 1147 1149 1151 1153 1154 1155 1156 1157 1159 1160 1163 1164 1165 1166 1167 \n",
      "CPU times: user 6min 52s, sys: 7min 24s, total: 14min 16s\n",
      "Wall time: 3min 53s\n"
     ]
    }
   ],
   "source": [
    "%%time\n",
    "for run in runlist.index:\n",
    "    print(run, end =\" \")\n",
    "    result = runlist.loc[run, \"future\"].result()\n",
    "    runlist.loc[run, \"NeventsInFile\"] = result[0]\n",
    "    runlist.loc[run, \"RechitEnergySumMean\"] = result[1]\n",
    "    runlist.loc[run, \"RechitEnergySumMedian\"] = result[2]\n",
    "print(\"\")"
   ]
  },
  {
   "cell_type": "code",
   "execution_count": 8,
   "metadata": {},
   "outputs": [],
   "source": [
    "runlist = runlist.drop(\"future\", axis=1)"
   ]
  },
  {
   "cell_type": "code",
   "execution_count": 9,
   "metadata": {},
   "outputs": [],
   "source": [
    "runlist.to_csv(\"runlist_with_energy_sums.csv\")"
   ]
  },
  {
   "cell_type": "code",
   "execution_count": null,
   "metadata": {},
   "outputs": [],
   "source": []
  }
 ],
 "metadata": {
  "kernelspec": {
   "display_name": "Python 3",
   "language": "python",
   "name": "python3"
  },
  "language_info": {
   "codemirror_mode": {
    "name": "ipython",
    "version": 3
   },
   "file_extension": ".py",
   "mimetype": "text/x-python",
   "name": "python",
   "nbconvert_exporter": "python",
   "pygments_lexer": "ipython3",
   "version": "3.7.0"
  }
 },
 "nbformat": 4,
 "nbformat_minor": 2
}
