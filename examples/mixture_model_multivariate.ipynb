{
 "cells": [
  {
   "cell_type": "markdown",
   "metadata": {},
   "source": [
    "# Approximating Likelihood Ratios with Calibrated Discriminative Classifiers: Signal Strength in Mixture Models\n",
    "\n",
    "In this notebook, techniques described in the paper [Approximating Likelihood Ratios with Calibrated Discriminative Classifiers](https://arxiv.org/abs/1506.02169) (in particular section 3.4) are adapted to signal strength fits in models with multiple background components. Toy data is generated with `make_classification` for that purpose."
   ]
  },
  {
   "cell_type": "code",
   "execution_count": 1,
   "metadata": {},
   "outputs": [],
   "source": [
    "from sklearn.datasets import make_classification\n",
    "from sklearn.model_selection import train_test_split\n",
    "from xgboost import XGBClassifier\n",
    "import numpy as np\n",
    "import matplotlib.pyplot as plt\n",
    "import xgboost as xgb"
   ]
  },
  {
   "cell_type": "markdown",
   "metadata": {},
   "source": [
    "The central piece of this example can not be found in this notebook, but gets imported from [geeksw](https://github.com/guitargeek/geeksw/):"
   ]
  },
  {
   "cell_type": "code",
   "execution_count": 22,
   "metadata": {},
   "outputs": [],
   "source": [
    "from geeksw.stats.likelihood import PairwiseLikelihoodRatioModel, minimize_likelihood"
   ]
  },
  {
   "cell_type": "markdown",
   "metadata": {},
   "source": [
    "## Sample Generation"
   ]
  },
  {
   "cell_type": "markdown",
   "metadata": {},
   "source": [
    "How many components will our toy model have? The first component will be defined as the signal component. The weights for the true mixture also have to be defined. The  weights should be of length `n_classes - 1`, as the weight of the last component is inferred automatically from the normalization."
   ]
  },
  {
   "cell_type": "code",
   "execution_count": 3,
   "metadata": {},
   "outputs": [],
   "source": [
    "n_classes = 2\n",
    "weights = [0.05]\n",
    "n_events = 500000"
   ]
  },
  {
   "cell_type": "markdown",
   "metadata": {},
   "source": [
    "Define the random statue for toy model and samle splitting:"
   ]
  },
  {
   "cell_type": "code",
   "execution_count": 4,
   "metadata": {},
   "outputs": [],
   "source": [
    "random_state = 79"
   ]
  },
  {
   "cell_type": "markdown",
   "metadata": {},
   "source": [
    "Generate events from toy model:"
   ]
  },
  {
   "cell_type": "code",
   "execution_count": 5,
   "metadata": {},
   "outputs": [],
   "source": [
    "X, y = make_classification(n_samples=n_events,\n",
    "                           n_features=20,\n",
    "                           n_informative=5,\n",
    "                           random_state=random_state,\n",
    "                           n_classes=n_classes,\n",
    "                           weights=weights)"
   ]
  },
  {
   "cell_type": "markdown",
   "metadata": {},
   "source": [
    "I split the generated events in 3 parts:\n",
    "1. __training__: will be used to train the classifiers for distinguishing one component from another\n",
    "1. __calibration__: the likelihood ratios are calibrated by running the classifiers on this sample and histogramming of the predictions\n",
    "1. __testing__: about 80 % of the generated events will be in this subsample. It is used to validate the calibration by repeadetly drawing random subsamples of __testing__ that are of the same size as the sample used for __calibration__, veryfinig the calibration is consitent on a statistical basis\n"
   ]
  },
  {
   "cell_type": "code",
   "execution_count": 6,
   "metadata": {},
   "outputs": [],
   "source": [
    "X_train, X_, y_train, y_ = train_test_split(X, y, test_size=0.9, random_state=random_state)\n",
    "X_calib, X_test, y_calib, y_test = train_test_split(X_, y_, test_size=0.9, random_state=random_state+99)"
   ]
  },
  {
   "cell_type": "code",
   "execution_count": 7,
   "metadata": {},
   "outputs": [
    {
     "name": "stdout",
     "output_type": "stream",
     "text": [
      "n_test: 50000\n",
      "n_calib: 45000\n",
      "n_test: 405000\n"
     ]
    }
   ],
   "source": [
    "print(\"n_test: {0}\".format(len(X_train)))\n",
    "print(\"n_calib: {0}\".format(len(X_calib)))\n",
    "print(\"n_test: {0}\".format(len(X_test)))"
   ]
  },
  {
   "cell_type": "markdown",
   "metadata": {},
   "source": [
    "## Training the Classifiers and Make Pairwise Predictions"
   ]
  },
  {
   "cell_type": "markdown",
   "metadata": {},
   "source": [
    "Let's train `(n**2 - n)/2` [xgboost](https://xgboost.readthedocs.io/en/latest/) classifiers for pairwise classification of the components. The number $n$ stands here for the number of components.\n",
    "\n",
    "I use `binary:logitraw` to obtain the classifier score before the logistic transformtion as my model predictions. The logistic transformation is not necessary, as we will recalibrate the output anyway, and the score before the transformation behaves more Gaussian-like which is better for the later treatment."
   ]
  },
  {
   "cell_type": "code",
   "execution_count": 8,
   "metadata": {},
   "outputs": [],
   "source": [
    "params = dict(objective=\"binary:logitraw\")\n",
    "num_round = 100"
   ]
  },
  {
   "cell_type": "code",
   "execution_count": 9,
   "metadata": {},
   "outputs": [
    {
     "name": "stdout",
     "output_type": "stream",
     "text": [
      "Training model 1 vs 0...\n"
     ]
    }
   ],
   "source": [
    "models = [[None] * n_classes for i in range(n_classes)]\n",
    "for i in range(n_classes):\n",
    "    for j in range(n_classes):\n",
    "        if i <= j:\n",
    "            continue\n",
    "        print(f\"Training model {i} vs {j}...\")\n",
    "        m = np.logical_or(y_train == i, y_train == j)\n",
    "        dtrain = xgb.DMatrix(X_train[m], label=np.array(y_train[m] == i, dtype=np.int))\n",
    "        models[i][j] = xgb.train(params, dtrain, num_round)\n",
    "        models[j][i] = models[i][j]"
   ]
  },
  {
   "cell_type": "markdown",
   "metadata": {},
   "source": [
    "Now, let's run the models on all our samples:"
   ]
  },
  {
   "cell_type": "code",
   "execution_count": 10,
   "metadata": {},
   "outputs": [],
   "source": [
    "preds_train = np.zeros((len(y_train), n_classes, n_classes))\n",
    "preds_calib = np.zeros((len(y_calib), n_classes, n_classes))\n",
    "preds_test = np.zeros((len(y_test), n_classes, n_classes))"
   ]
  },
  {
   "cell_type": "code",
   "execution_count": 11,
   "metadata": {},
   "outputs": [],
   "source": [
    "dtrain = xgb.DMatrix(X_train)\n",
    "dcalib = xgb.DMatrix(X_calib)\n",
    "dtest = xgb.DMatrix(X_test)"
   ]
  },
  {
   "cell_type": "code",
   "execution_count": 12,
   "metadata": {},
   "outputs": [],
   "source": [
    "for i in range(n_classes):\n",
    "    for j in range(n_classes):\n",
    "        if i == j:\n",
    "            continue\n",
    "        preds_train[:,i,j] = models[i][j].predict(dtrain)\n",
    "        preds_calib[:,i,j] = models[i][j].predict(dcalib)\n",
    "        preds_test[:,i,j] = models[i][j].predict(dtest)\n",
    "\n",
    "        if i < j:\n",
    "            preds_train[:,i,j] = -preds_train[:,i,j]\n",
    "            preds_calib[:,i,j] = -preds_calib[:,i,j]\n",
    "            preds_test[:,i,j] = -preds_test[:,i,j]"
   ]
  },
  {
   "cell_type": "markdown",
   "metadata": {},
   "source": [
    "For every event, the predictions will be a symmetric square matrix of size `n_classes`, where the element `[i,j]` corresponds to the score of the event being in component `i` versus component `j`. The diagonal is zero, as we can't separate a component from itself. Here, as an example the scores for the first event in the testing sample:"
   ]
  },
  {
   "cell_type": "code",
   "execution_count": 13,
   "metadata": {},
   "outputs": [
    {
     "data": {
      "text/plain": [
       "array([[ 0.        , -6.07071686],\n",
       "       [ 6.07071686,  0.        ]])"
      ]
     },
     "execution_count": 13,
     "metadata": {},
     "output_type": "execute_result"
    }
   ],
   "source": [
    "preds_test[0]"
   ]
  },
  {
   "cell_type": "markdown",
   "metadata": {},
   "source": [
    "As we anticipate, predictions from the _0 vs 1_ model are highest for the component 0, lowest for the component 1 and somewhere in between for the other components (if any)."
   ]
  },
  {
   "cell_type": "code",
   "execution_count": 14,
   "metadata": {},
   "outputs": [
    {
     "data": {
      "image/png": "[encoded data removed]",
      "text/plain": [
       "<Figure size 432x288 with 1 Axes>"
      ]
     },
     "metadata": {
      "needs_background": "light"
     },
     "output_type": "display_data"
    }
   ],
   "source": [
    "for i in range(n_classes):\n",
    "    plt.hist(preds_test[:,0,1][y_test == i], bins=100, histtype=\"step\", density=True, label=\"component \"+str(i))\n",
    "plt.xlabel(\"Score for 0 vs 1 model\")\n",
    "plt.legend()\n",
    "plt.show()"
   ]
  },
  {
   "cell_type": "markdown",
   "metadata": {},
   "source": [
    "## Precomputing the Likelihood Ratios"
   ]
  },
  {
   "cell_type": "markdown",
   "metadata": {},
   "source": [
    "For the likelihood-free inference, in the case where our model parameter is only a factor in the weight of the signal component (also called the signal strength $\\mu$), we need to compute the likelihood ratios that a given event is in one component versus another, so we can ultimately apply formula 3.5 from [the paper](https://arxiv.org/pdf/1506.02169.pdf).\n",
    "\n",
    "If not for overtraining effects, one could simply use the classification scores after logistic transformation. In reality, we need to recalibrate. This can be done for example with kernel density estimates, histogram based methods or isotonic regression (as the substitute for the likelihood ratio increases monotonically).\n",
    "\n",
    "I choose histogramming for the recalibration, as it seems to me this is most promising to also incorporate systematic uncertainties later. A natural next step would be for example to include the uncertainty due to limited statistics in the calibration sample, which could be accounted for with Poission errors in the number of entries.\n",
    "\n",
    "### Finding the Binning of the Histograms\n",
    "\n",
    "The usual question for histogram-based methods is the realization of the binning. The number of bins for each pairwise likelihood ratio is a free parameter of my approach. With the number of bins given, the location of their edges will be found by throwing decision trees at the scores. The dicision boundaries of these simple trees will then be used as the bin edges.\n",
    "\n",
    "### The `PairwiseLikelihoodRatioModel` Class\n",
    "\n",
    "This class is used for the transformation from the matrix with binary scores to likelihood ratios based on the histogram-based approach described above. It's `fit()` function takes the binary scores and true component indices for the calibration sample and fills the histograms. The `predict()` function takes just the binary score matrix, looks up the correcponding likelihood ratios in the histograms and returns them."
   ]
  },
  {
   "cell_type": "code",
   "execution_count": 15,
   "metadata": {},
   "outputs": [
    {
     "name": "stderr",
     "output_type": "stream",
     "text": [
      "/home/jonas/.local/lib/python3.7/site-packages/geeksw/stats/likelihood.py:71: RuntimeWarning: divide by zero encountered in true_divide\n",
      "  self._r_hist[i][j] = hist_j / hist_i\n",
      "/home/jonas/.local/lib/python3.7/site-packages/geeksw/stats/likelihood.py:80: RuntimeWarning: divide by zero encountered in true_divide\n",
      "  self._r_hist[j][i] = (hist_i / hist_j)[::-1]\n"
     ]
    }
   ],
   "source": [
    "likelihood_model = PairwiseLikelihoodRatioModel(n_bins=40).train(preds_calib, y_calib)"
   ]
  },
  {
   "cell_type": "markdown",
   "metadata": {},
   "source": [
    "### Evaluating the Likelihood Ratio for a Given Signal Strength"
   ]
  },
  {
   "cell_type": "markdown",
   "metadata": {},
   "source": [
    "### Calibration Sample"
   ]
  },
  {
   "cell_type": "markdown",
   "metadata": {},
   "source": [
    "Ok, let us start with the classic likelihood scan over the signal strength $\\mu$.\n",
    "\n",
    "For this, we will use the last method of the `PairwiseLikelihoodRatioModel` class, which is called `make_likelihood_function()`. You have to pass it a binary scores matrix and it will return a function. This function is the actual likelihood function for the observed scores, and you only need to pass it the signal strength $\\mu$ to evaluatue it.\n",
    "\n",
    "We will do the likelihood scan for the calibration sample, so we can cross-check if the calibration was performed correctly. If everything went well, the minimum should be exactly at 1.0."
   ]
  },
  {
   "cell_type": "code",
   "execution_count": 19,
   "metadata": {},
   "outputs": [
    {
     "data": {
      "image/png": "[encoded data removed]",
      "text/plain": [
       "<Figure size 432x288 with 1 Axes>"
      ]
     },
     "metadata": {
      "needs_background": "light"
     },
     "output_type": "display_data"
    },
    {
     "name": "stdout",
     "output_type": "stream",
     "text": [
      "best mu: 1.0000004009516328\n"
     ]
    }
   ],
   "source": [
    "mus = np.linspace(0.5, 1/0.5, 200)\n",
    "res = np.zeros_like(mus)\n",
    "\n",
    "func = likelihood_model.make_likelihood_function(preds_calib)\n",
    "for k, m in enumerate(mus):\n",
    "    res[k] = func(m)\n",
    "plt.plot(mus, res, label=\"calibration sample\")\n",
    "plt.ylabel(\"likelihood ratio\")\n",
    "plt.xlabel(r\"$\\mu$\")\n",
    "plt.legend()\n",
    "plt.show()\n",
    "\n",
    "print(\"best mu: \" + str(minimize_likelihood(func)[0]))"
   ]
  },
  {
   "cell_type": "markdown",
   "metadata": {},
   "source": [
    "If the minimum is not be at one, this can mean one of two things:\n",
    "1. The classifiers were not fitting the likelihood ratios well\n",
    "2. You did not choose enough bins for the decision trees in the likelihood model, therefore underfitting the likelihood ratio and introducing a bias"
   ]
  },
  {
   "cell_type": "markdown",
   "metadata": {},
   "source": [
    "### Testing Sample"
   ]
  },
  {
   "cell_type": "markdown",
   "metadata": {},
   "source": [
    "Finally, we will apply the model to some unseen testing samples. To generate these testing samples, we first draw a random number $n_i$ from a Poisson distribution with $\\lambda$ = `len(X_calib)` and then take $n_i$ random events out of the testing sample.\n",
    "\n",
    "For each drawn sample, we compute the signal strength and uncertainty by minimizing the log-likelihood."
   ]
  },
  {
   "cell_type": "code",
   "execution_count": 23,
   "metadata": {},
   "outputs": [
    {
     "data": {
      "image/png": "[encoded data removed]",
      "text/plain": [
       "<Figure size 432x288 with 1 Axes>"
      ]
     },
     "metadata": {
      "needs_background": "light"
     },
     "output_type": "display_data"
    },
    {
     "name": "stdout",
     "output_type": "stream",
     "text": [
      "fraction in confidence interval: 62.40 %\n",
      "mean of pull distribution: 0.3537\n",
      "std of pull distribution: 1.0067\n"
     ]
    }
   ],
   "source": [
    "n_samples = 1000\n",
    "\n",
    "fitted_mu = np.zeros(n_samples)\n",
    "fitted_mu_err = np.zeros(n_samples)\n",
    "is_in_confidence_interval = np.zeros(n_samples, dtype=np.bool)\n",
    "\n",
    "for l in range(n_samples):\n",
    "\n",
    "    n_tot = np.random.poisson(lam=len(y_calib), size=1)[0]\n",
    "\n",
    "    selection_test = np.random.choice(np.arange(len(preds_test)), size=n_tot)\n",
    "\n",
    "    func = likelihood_model.make_likelihood_function(preds_test[selection_test])\n",
    "    \n",
    "    best_mu, interval = minimize_likelihood(func)\n",
    "\n",
    "    fitted_mu[l] = best_mu\n",
    "    is_in_confidence_interval[l] = interval[1] > 1. and interval[0] < 1.\n",
    "    fitted_mu_err[l] = np.max(np.abs(interval - best_mu))\n",
    "\n",
    "plt.hist(fitted_mu, bins=20, histtype=\"step\")\n",
    "plt.xlabel(r\"$\\mu$\")\n",
    "plt.show()\n",
    "    \n",
    "frac_in_cf = np.sum(is_in_confidence_interval)/len(is_in_confidence_interval)\n",
    "print(\"fraction in confidence interval: {0:.2f} %\".format(frac_in_cf * 100))\n",
    "pulls = (fitted_mu - 1) / fitted_mu_err\n",
    "print(\"mean of pull distribution: {0:.4f}\".format(np.mean(pulls)))\n",
    "print(\"std of pull distribution: {0:.4f}\".format(np.std(pulls)))"
   ]
  },
  {
   "cell_type": "markdown",
   "metadata": {},
   "source": [
    "If the behaviour of our likelihood substitute is correct, about 69 % of the experiments should have covered the true value with their confidence interval. The mean of the pull distribution should be zero and it's standard deviation one.\n",
    "\n",
    "A bias in the pull distribution or other inconsistencies could either stem from the same issues which caused the best fit in the cross-check with the calibration sample to not be 1, or, in case the cross-check was successful, indicate an over-fitting of the calibration, i.e. too many bins in the histograms."
   ]
  }
 ],
 "metadata": {
  "kernelspec": {
   "display_name": "Python 3",
   "language": "python",
   "name": "python3"
  },
  "language_info": {
   "codemirror_mode": {
    "name": "ipython",
    "version": 3
   },
   "file_extension": ".py",
   "mimetype": "text/x-python",
   "name": "python",
   "nbconvert_exporter": "python",
   "pygments_lexer": "ipython3",
   "version": "3.7.3"
  }
 },
 "nbformat": 4,
 "nbformat_minor": 2
}
